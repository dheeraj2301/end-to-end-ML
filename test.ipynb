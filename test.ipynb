{
 "cells": [
  {
   "cell_type": "code",
   "execution_count": 2,
   "metadata": {},
   "outputs": [
    {
     "name": "stderr",
     "output_type": "stream",
     "text": [
      "\u001b[32m2024-12-23 03:26:53.370\u001b[0m | \u001b[1mINFO    \u001b[0m | \u001b[36msrc.utils.common\u001b[0m:\u001b[36mread_yaml\u001b[0m:\u001b[36m27\u001b[0m - \u001b[1myaml file: config/config.yaml loaded successfully\u001b[0m\n"
     ]
    },
    {
     "name": "stdout",
     "output_type": "stream",
     "text": [
      "   id\n",
      "0   1\n",
      "1   2\n",
      "2   3\n",
      "3   4\n",
      "4   5\n"
     ]
    }
   ],
   "source": [
    "import psycopg2\n",
    "\n",
    "from src.config.configurations import ConfigurationManager\n",
    "from src.data_connectors.config_database import RDSConnector, RedshiftConnector\n",
    "\n",
    "config = ConfigurationManager()\n",
    "\n",
    "rds_config = config.get_rds_config()\n",
    "rds_con = RDSConnector(rds_config)\n",
    "# rds_con.get_tables('decision')\n",
    "print(rds_con.get_dataframe(\"select id from decision.loan limit 5\"))\n"
   ]
  },
  {
   "cell_type": "code",
   "execution_count": 2,
   "metadata": {},
   "outputs": [
    {
     "name": "stderr",
     "output_type": "stream",
     "text": [
      "\u001b[32m2024-12-20 07:20:45.006\u001b[0m | \u001b[1mINFO    \u001b[0m | \u001b[36msrc.utils.common\u001b[0m:\u001b[36mread_yaml\u001b[0m:\u001b[36m27\u001b[0m - \u001b[1myaml file: config/config.yaml loaded successfully\u001b[0m\n",
      "/home/ubuntu/end_to_end_ml/src/database/config_database.py:154: UserWarning: pandas only supports SQLAlchemy connectable (engine/connection) or database string URI or sqlite3 DBAPI2 connection. Other DBAPI2 objects are not tested. Please consider using SQLAlchemy.\n",
      "  df = pd.read_sql(\n",
      "\u001b[32m2024-12-20 07:20:45.033\u001b[0m | \u001b[1mINFO    \u001b[0m | \u001b[36msrc.database.config_database\u001b[0m:\u001b[36mget_databases\u001b[0m:\u001b[36m123\u001b[0m - \u001b[1mNo of Databases: 22\u001b[0m\n"
     ]
    },
    {
     "data": {
      "text/html": [
       "<div>\n",
       "<style scoped>\n",
       "    .dataframe tbody tr th:only-of-type {\n",
       "        vertical-align: middle;\n",
       "    }\n",
       "\n",
       "    .dataframe tbody tr th {\n",
       "        vertical-align: top;\n",
       "    }\n",
       "\n",
       "    .dataframe thead th {\n",
       "        text-align: right;\n",
       "    }\n",
       "</style>\n",
       "<table border=\"1\" class=\"dataframe\">\n",
       "  <thead>\n",
       "    <tr style=\"text-align: right;\">\n",
       "      <th></th>\n",
       "      <th>lead_id</th>\n",
       "    </tr>\n",
       "  </thead>\n",
       "  <tbody>\n",
       "    <tr>\n",
       "      <th>0</th>\n",
       "      <td>309478</td>\n",
       "    </tr>\n",
       "    <tr>\n",
       "      <th>1</th>\n",
       "      <td>299472</td>\n",
       "    </tr>\n",
       "    <tr>\n",
       "      <th>2</th>\n",
       "      <td>309737</td>\n",
       "    </tr>\n",
       "    <tr>\n",
       "      <th>3</th>\n",
       "      <td>322638</td>\n",
       "    </tr>\n",
       "    <tr>\n",
       "      <th>4</th>\n",
       "      <td>327202</td>\n",
       "    </tr>\n",
       "  </tbody>\n",
       "</table>\n",
       "</div>"
      ],
      "text/plain": [
       "   lead_id\n",
       "0   309478\n",
       "1   299472\n",
       "2   309737\n",
       "3   322638\n",
       "4   327202"
      ]
     },
     "execution_count": 2,
     "metadata": {},
     "output_type": "execute_result"
    }
   ],
   "source": [
    "config = ConfigurationManager()\n",
    "redshift_config = config.get_redshift_config()\n",
    "redshift_con = RedshiftConnector(redshift_config)\n",
    "redshift_con.get_databases()\n",
    "redshift_con.get_dataframe(\"select lead_id from adf0275.poold_analysis_20240628 limit 5\", \"analytics\")"
   ]
  },
  {
   "cell_type": "code",
   "execution_count": 1,
   "metadata": {},
   "outputs": [],
   "source": [
    "import os\n",
    "import polars as pl\n",
    "import time\n",
    "import pandas as pd\n",
    "# os.environ[\"AWS_REGION\"] = \"your-region\"\n",
    "idvs = ['tu_income_estimator', 'misaligned_pay_freqency', 'improbable_pay_date', 'infrequent_pay_date', 'paymentstartdate_paydate1_diff', 'paydate1_application_create_date_diff', 'paydate1_lead_create_date_diff', 'paymentstartdate_paydate1_same_flag', 'paydate1_day', 'paydate1_weekday', 'paymentstartdate_weekday', 'lead_create_date_weekday', 'application_create_date_weekday', 'paymentstartdate_paydate1_notsame_and_weekend_flag', 'paydate1_holiday_flag', 'paydate1_holiday_or_weekend_flag', 'paymentstartdate_holiday_flag', 'paymentstartdate_holiday_or_weekend_flag', 'goverment_benefits_paydate_alignment_flag', 'ft_emp_logic_employerdomainmatches', 'ft_emp_logic_employermatchpercentage', 'ft_emp_logic_employermatchratio', 'ft_emp_logic_employernames', 'ft_emp_logic_homeziptoworkzipdistances', 'ft_emp_logic_ipaddressorigindomains', 'ft_emp_logic_iporigintoworkzipdistances', 'ft_emp_logic_monthlyincomes', 'ft_emp_logic_paydatematchcount', 'ft_emp_logic_paydatematchpercentage', 'ft_emp_logic_paydatematchprojected', 'ft_emp_logic_paydatematchratio', 'ft_emp_logic_payfrequencies', 'ft_emp_logic_payfrequencymatchpercentage', 'ft_emp_logic_payfrequencymatchratio', 'ft_emp_logic_payrolltypes', 'ft_emp_logic_projectedpaydate', 'ft_emp_logic_score', 'ft_emp_logic_scorepercentage', 'ft_emp_logic_workzips', 'emp1_first_match_ratio', 'emp1_is_abbr', 'emp1_is_any_match', 'emp1_last_match_ratio', 'emp1_match_ratio', 'emp_first_match_ratio', 'emp_is_abbr', 'emp_is_any_match', 'emp_last_match_ratio', 'emp_match_ratio', 'emp_max_first_match_ratio', 'emp_max_last_match_ratio', 'emp_max_match_ratio', 'employment_1_employer', 'employment_1_employer_unparsed', 'employment_employer', 'employment_employer_unparsed', 'no_of_times_job_switched_12_months', 'no_of_times_job_switched_1_months', 'no_of_times_job_switched_24_months', 'no_of_times_job_switched_2_months', 'no_of_times_job_switched_36_months', 'no_of_times_job_switched_3_months', 'no_of_times_job_switched_48_months', 'no_of_times_job_switched_60_months', 'no_of_times_job_switched_6_months', 'no_of_times_job_switched_96_months', 'no_of_times_job_switched_ever', 'lti', 'payment_freq_bi_weekly', 'payment_freq_monthly', 'payment_freq_twice_per_month', 'payment_freq_weekly', 'payment_freq_other', 'repayment_freq_bi_weekly', 'repayment_freq_monthly', 'repayment_freq_twice_per_month', 'repayment_freq_weekly', 'employmentstatus_employment', 'employmentstatus_selfemployed', 'employmentstatus_governmentbenefit', 'employmentstatus_pension_or_annuity', 'employmentstatus_other', 'pti_1', 'pti_2', 'cca_num_of_employers_last_six_months', 'cca_reported_net_monthly_income_previously_seen', 'RTI', 'DTI_current_debt', 'DTI_current_usi_debt', 'stated_income', 'income_rounding']"
   ]
  },
  {
   "cell_type": "code",
   "execution_count": 3,
   "metadata": {},
   "outputs": [
    {
     "name": "stderr",
     "output_type": "stream",
     "text": [
      "/tmp/ipykernel_10149/3645981205.py:1: UserWarning: '(default_)region' not set; polars will try to get it from bucket\n",
      "\n",
      "Set the region manually to silence this warning.\n",
      "  pl.read_parquet('s3://ml-framework-prod/dheerajks/employment_analyses/data/train.parquet')\n"
     ]
    },
    {
     "data": {
      "text/html": [
       "<div><style>\n",
       ".dataframe > thead > tr,\n",
       ".dataframe > tbody > tr {\n",
       "  text-align: right;\n",
       "  white-space: pre-wrap;\n",
       "}\n",
       "</style>\n",
       "<small>shape: (258_915, 106)</small><table border=\"1\" class=\"dataframe\"><thead><tr><th>tu_income_estimator</th><th>misaligned_pay_freqency</th><th>improbable_pay_date</th><th>infrequent_pay_date</th><th>paymentstartdate_paydate1_diff</th><th>paydate1_application_create_date_diff</th><th>paydate1_lead_create_date_diff</th><th>paymentstartdate_paydate1_same_flag</th><th>paydate1_day</th><th>paydate1_weekday</th><th>paymentstartdate_weekday</th><th>lead_create_date_weekday</th><th>application_create_date_weekday</th><th>paymentstartdate_paydate1_notsame_and_weekend_flag</th><th>paydate1_holiday_flag</th><th>paydate1_holiday_or_weekend_flag</th><th>paymentstartdate_holiday_flag</th><th>paymentstartdate_holiday_or_weekend_flag</th><th>goverment_benefits_paydate_alignment_flag</th><th>ft_emp_logic_employerdomainmatches</th><th>ft_emp_logic_employermatchpercentage</th><th>ft_emp_logic_employermatchratio</th><th>ft_emp_logic_employernames</th><th>ft_emp_logic_homeziptoworkzipdistances</th><th>ft_emp_logic_ipaddressorigindomains</th><th>ft_emp_logic_iporigintoworkzipdistances</th><th>ft_emp_logic_monthlyincomes</th><th>ft_emp_logic_paydatematchcount</th><th>ft_emp_logic_paydatematchpercentage</th><th>ft_emp_logic_paydatematchprojected</th><th>ft_emp_logic_paydatematchratio</th><th>ft_emp_logic_payfrequencies</th><th>ft_emp_logic_payfrequencymatchpercentage</th><th>ft_emp_logic_payfrequencymatchratio</th><th>ft_emp_logic_payrolltypes</th><th>ft_emp_logic_projectedpaydate</th><th>ft_emp_logic_score</th><th>&hellip;</th><th>payment_freq_monthly</th><th>payment_freq_twice_per_month</th><th>payment_freq_weekly</th><th>payment_freq_other</th><th>repayment_freq_bi_weekly</th><th>repayment_freq_monthly</th><th>repayment_freq_twice_per_month</th><th>repayment_freq_weekly</th><th>employmentstatus_employment</th><th>employmentstatus_selfemployed</th><th>employmentstatus_governmentbenefit</th><th>employmentstatus_pension_or_annuity</th><th>employmentstatus_other</th><th>pti_1</th><th>pti_2</th><th>cca_num_of_employers_last_six_months</th><th>cca_reported_net_monthly_income_previously_seen</th><th>RTI</th><th>DTI_current_debt</th><th>DTI_current_usi_debt</th><th>stated_income</th><th>income_rounding</th><th>employer_mean_salary</th><th>employer_mean_std</th><th>employer_salary_standardized</th><th>employer_median_salary</th><th>payment_freq_percentage</th><th>inc_by_avginc_mapped_occ</th><th>inc_by_avginc_low_summ_occ</th><th>inc_by_avginc_high_summ_occ</th><th>inc_by_blsinc_mapped_occ</th><th>inc_by_blsinc_low_summ_occ</th><th>inc_by_blsinc_high_summ_occ</th><th>inc_by_state_wise_avginc</th><th>inc_by_city_wise_avginc</th><th>_6pd30</th><th>lead_id</th></tr><tr><td>f64</td><td>f64</td><td>f64</td><td>f64</td><td>f64</td><td>f64</td><td>f64</td><td>f64</td><td>f64</td><td>f64</td><td>f64</td><td>f64</td><td>f64</td><td>f64</td><td>f64</td><td>f64</td><td>f64</td><td>f64</td><td>f64</td><td>f64</td><td>f64</td><td>f64</td><td>f64</td><td>f64</td><td>f64</td><td>f64</td><td>f64</td><td>f64</td><td>f64</td><td>f64</td><td>f64</td><td>f64</td><td>f64</td><td>f64</td><td>f64</td><td>f64</td><td>f64</td><td>&hellip;</td><td>f64</td><td>f64</td><td>f64</td><td>f64</td><td>f64</td><td>f64</td><td>f64</td><td>f64</td><td>f64</td><td>f64</td><td>f64</td><td>f64</td><td>f64</td><td>f64</td><td>f64</td><td>f64</td><td>f64</td><td>f64</td><td>f64</td><td>f64</td><td>f64</td><td>f64</td><td>f64</td><td>f64</td><td>f64</td><td>f64</td><td>f64</td><td>f64</td><td>f64</td><td>f64</td><td>f64</td><td>f64</td><td>f64</td><td>f64</td><td>f64</td><td>f32</td><td>i64</td></tr></thead><tbody><tr><td>0.0</td><td>-0.476128</td><td>-0.148182</td><td>0.55397</td><td>-0.885678</td><td>-0.232508</td><td>-0.230703</td><td>-0.488358</td><td>-1.523284</td><td>-2.459607</td><td>-0.975085</td><td>-0.802303</td><td>-0.810676</td><td>-0.290787</td><td>-0.084695</td><td>-0.307839</td><td>-0.098522</td><td>-0.363207</td><td>-0.230211</td><td>0.0</td><td>0.0</td><td>0.0</td><td>0.0</td><td>0.0</td><td>0.0</td><td>0.0</td><td>0.0</td><td>0.0</td><td>0.0</td><td>0.0</td><td>0.0</td><td>0.0</td><td>0.0</td><td>0.0</td><td>0.0</td><td>0.0</td><td>0.0</td><td>&hellip;</td><td>-0.19659</td><td>-0.168825</td><td>-0.171862</td><td>-0.03859</td><td>-0.446951</td><td>-0.209992</td><td>-0.166585</td><td>0.0</td><td>-2.142357</td><td>-0.269134</td><td>-0.215371</td><td>4.390487</td><td>-0.134284</td><td>1.870176</td><td>0.510104</td><td>0.0</td><td>0.0</td><td>-0.658725</td><td>0.0</td><td>0.0</td><td>-0.090994</td><td>-1.995103</td><td>0.0</td><td>0.0</td><td>0.0</td><td>0.0</td><td>0.0</td><td>0.0</td><td>0.0</td><td>0.0</td><td>0.0</td><td>0.0</td><td>0.0</td><td>-0.08797</td><td>0.0</td><td>0.0</td><td>42</td></tr><tr><td>0.0</td><td>2.100275</td><td>-0.148182</td><td>0.55397</td><td>-0.885678</td><td>-0.232508</td><td>-0.230703</td><td>0.201376</td><td>-0.04877</td><td>0.484039</td><td>-0.975085</td><td>1.349268</td><td>1.340473</td><td>-0.290787</td><td>-0.084695</td><td>-0.307839</td><td>-0.098522</td><td>-0.363207</td><td>-0.230211</td><td>0.0</td><td>0.0</td><td>0.0</td><td>0.0</td><td>0.0</td><td>0.0</td><td>0.0</td><td>0.0</td><td>0.0</td><td>0.0</td><td>0.0</td><td>0.0</td><td>0.0</td><td>0.0</td><td>0.0</td><td>0.0</td><td>0.0</td><td>0.0</td><td>&hellip;</td><td>-0.19659</td><td>-0.168825</td><td>-0.171862</td><td>-0.03859</td><td>-0.446951</td><td>-0.209992</td><td>-0.166585</td><td>0.0</td><td>0.466776</td><td>-0.269134</td><td>-0.215371</td><td>-0.227765</td><td>-0.134284</td><td>1.404958</td><td>0.215265</td><td>0.0</td><td>0.0</td><td>0.764018</td><td>0.0</td><td>0.0</td><td>-0.101112</td><td>0.501227</td><td>0.0</td><td>0.0</td><td>0.0</td><td>0.0</td><td>0.0</td><td>0.0</td><td>0.0</td><td>0.0</td><td>0.0</td><td>0.0</td><td>0.0</td><td>-0.09869</td><td>-0.08512</td><td>1.0</td><td>93</td></tr><tr><td>0.0</td><td>-0.476128</td><td>-0.148182</td><td>-1.805153</td><td>-0.885678</td><td>-0.232508</td><td>-0.230703</td><td>-0.419384</td><td>0.79381</td><td>1.21995</td><td>-1.67975</td><td>-1.340195</td><td>-1.348464</td><td>-0.290787</td><td>-0.084695</td><td>3.24845</td><td>-0.098522</td><td>-0.363207</td><td>-0.230211</td><td>0.0</td><td>0.0</td><td>0.0</td><td>0.0</td><td>0.0</td><td>0.0</td><td>0.0</td><td>0.0</td><td>0.0</td><td>0.0</td><td>0.0</td><td>0.0</td><td>0.0</td><td>0.0</td><td>0.0</td><td>0.0</td><td>0.0</td><td>0.0</td><td>&hellip;</td><td>-0.19659</td><td>-0.168825</td><td>-0.171862</td><td>-0.03859</td><td>-0.446951</td><td>-0.209992</td><td>-0.166585</td><td>0.0</td><td>0.466776</td><td>-0.269134</td><td>-0.215371</td><td>-0.227765</td><td>-0.134284</td><td>-0.988233</td><td>-1.034137</td><td>0.0</td><td>0.0</td><td>-0.401959</td><td>0.0</td><td>0.0</td><td>-0.056389</td><td>-1.995103</td><td>-0.299425</td><td>-0.322842</td><td>0.900945</td><td>0.450122</td><td>0.790207</td><td>0.0</td><td>0.0</td><td>0.0</td><td>0.0</td><td>0.0</td><td>0.0</td><td>-0.051308</td><td>0.0</td><td>0.0</td><td>127</td></tr><tr><td>0.0</td><td>-0.476128</td><td>-0.148182</td><td>0.55397</td><td>-0.885678</td><td>-0.232508</td><td>-0.230703</td><td>0.408297</td><td>0.688487</td><td>0.484039</td><td>1.138908</td><td>-0.802303</td><td>-0.810676</td><td>3.438948</td><td>-0.084695</td><td>-0.307839</td><td>-0.098522</td><td>2.753249</td><td>-0.230211</td><td>0.0</td><td>0.0</td><td>0.0</td><td>0.0</td><td>0.0</td><td>0.0</td><td>0.0</td><td>0.0</td><td>0.0</td><td>0.0</td><td>0.0</td><td>0.0</td><td>0.0</td><td>0.0</td><td>0.0</td><td>0.0</td><td>0.0</td><td>0.0</td><td>&hellip;</td><td>-0.19659</td><td>-0.168825</td><td>-0.171862</td><td>-0.03859</td><td>-0.446951</td><td>-0.209992</td><td>-0.166585</td><td>0.0</td><td>0.466776</td><td>-0.269134</td><td>-0.215371</td><td>-0.227765</td><td>-0.134284</td><td>-0.225218</td><td>0.013603</td><td>0.0</td><td>0.0</td><td>-0.270634</td><td>0.0</td><td>0.0</td><td>-0.083964</td><td>-1.995103</td><td>0.0</td><td>0.0</td><td>0.0</td><td>0.0</td><td>0.0</td><td>0.0</td><td>0.0</td><td>0.0</td><td>0.0</td><td>0.0</td><td>0.0</td><td>-0.080523</td><td>-0.073473</td><td>0.0</td><td>174</td></tr><tr><td>0.0</td><td>-0.476128</td><td>-0.148182</td><td>0.55397</td><td>-0.885678</td><td>-0.232508</td><td>-0.230703</td><td>-0.557331</td><td>-0.364737</td><td>0.484039</td><td>1.138908</td><td>-0.802303</td><td>-0.810676</td><td>3.438948</td><td>-0.084695</td><td>-0.307839</td><td>-0.098522</td><td>2.753249</td><td>-0.230211</td><td>0.0</td><td>0.0</td><td>0.0</td><td>0.0</td><td>0.0</td><td>0.0</td><td>0.0</td><td>0.0</td><td>0.0</td><td>0.0</td><td>0.0</td><td>0.0</td><td>0.0</td><td>0.0</td><td>0.0</td><td>0.0</td><td>0.0</td><td>0.0</td><td>&hellip;</td><td>-0.19659</td><td>-0.168825</td><td>-0.171862</td><td>-0.03859</td><td>-0.446951</td><td>-0.209992</td><td>-0.166585</td><td>0.0</td><td>0.466776</td><td>-0.269134</td><td>-0.215371</td><td>-0.227765</td><td>-0.134284</td><td>-0.311356</td><td>-0.104678</td><td>0.0</td><td>0.0</td><td>0.594131</td><td>-0.881678</td><td>0.0</td><td>-0.054374</td><td>-1.995103</td><td>-0.27246</td><td>-0.31377</td><td>0.525792</td><td>0.569539</td><td>0.952028</td><td>0.0</td><td>0.0</td><td>0.0</td><td>0.0</td><td>0.0</td><td>0.0</td><td>-0.049174</td><td>-0.049123</td><td>0.0</td><td>289</td></tr><tr><td>&hellip;</td><td>&hellip;</td><td>&hellip;</td><td>&hellip;</td><td>&hellip;</td><td>&hellip;</td><td>&hellip;</td><td>&hellip;</td><td>&hellip;</td><td>&hellip;</td><td>&hellip;</td><td>&hellip;</td><td>&hellip;</td><td>&hellip;</td><td>&hellip;</td><td>&hellip;</td><td>&hellip;</td><td>&hellip;</td><td>&hellip;</td><td>&hellip;</td><td>&hellip;</td><td>&hellip;</td><td>&hellip;</td><td>&hellip;</td><td>&hellip;</td><td>&hellip;</td><td>&hellip;</td><td>&hellip;</td><td>&hellip;</td><td>&hellip;</td><td>&hellip;</td><td>&hellip;</td><td>&hellip;</td><td>&hellip;</td><td>&hellip;</td><td>&hellip;</td><td>&hellip;</td><td>&hellip;</td><td>&hellip;</td><td>&hellip;</td><td>&hellip;</td><td>&hellip;</td><td>&hellip;</td><td>&hellip;</td><td>&hellip;</td><td>&hellip;</td><td>&hellip;</td><td>&hellip;</td><td>&hellip;</td><td>&hellip;</td><td>&hellip;</td><td>&hellip;</td><td>&hellip;</td><td>&hellip;</td><td>&hellip;</td><td>&hellip;</td><td>&hellip;</td><td>&hellip;</td><td>&hellip;</td><td>&hellip;</td><td>&hellip;</td><td>&hellip;</td><td>&hellip;</td><td>&hellip;</td><td>&hellip;</td><td>&hellip;</td><td>&hellip;</td><td>&hellip;</td><td>&hellip;</td><td>&hellip;</td><td>&hellip;</td><td>&hellip;</td><td>&hellip;</td><td>&hellip;</td><td>&hellip;</td></tr><tr><td>0.049895</td><td>-0.476128</td><td>-0.148182</td><td>0.55397</td><td>1.129079</td><td>-0.232508</td><td>-0.230703</td><td>-0.626304</td><td>1.425744</td><td>0.484039</td><td>0.434244</td><td>0.811375</td><td>0.802686</td><td>-0.290787</td><td>-0.084695</td><td>-0.307839</td><td>-0.098522</td><td>-0.363207</td><td>-0.230211</td><td>0.0</td><td>0.0</td><td>0.0</td><td>0.0</td><td>0.0</td><td>0.0</td><td>0.0</td><td>0.0</td><td>-0.079729</td><td>0.0</td><td>0.0</td><td>-0.277655</td><td>0.0</td><td>0.0</td><td>0.0</td><td>0.0</td><td>0.0</td><td>0.0</td><td>&hellip;</td><td>-0.19659</td><td>-0.168825</td><td>-0.171862</td><td>-0.03859</td><td>2.23738</td><td>-0.209992</td><td>-0.166585</td><td>0.0</td><td>0.466776</td><td>-0.269134</td><td>-0.215371</td><td>-0.227765</td><td>-0.134284</td><td>-0.05401</td><td>0.248699</td><td>-0.712849</td><td>0.246845</td><td>-0.658725</td><td>-0.47138</td><td>0.0</td><td>-0.059933</td><td>0.501227</td><td>0.0</td><td>0.0</td><td>0.0</td><td>0.0</td><td>0.0</td><td>0.0</td><td>0.0</td><td>0.0</td><td>0.0</td><td>0.0</td><td>0.0</td><td>-0.076784</td><td>0.0</td><td>0.0</td><td>9163748</td></tr><tr><td>0.049895</td><td>-0.476128</td><td>-0.148182</td><td>-1.805153</td><td>1.129079</td><td>-0.232508</td><td>-0.230703</td><td>-0.626304</td><td>1.531067</td><td>1.21995</td><td>1.138908</td><td>0.811375</td><td>0.802686</td><td>-0.290787</td><td>-0.084695</td><td>3.24845</td><td>-0.098522</td><td>2.753249</td><td>-0.230211</td><td>0.0</td><td>0.0</td><td>0.0</td><td>0.0</td><td>0.0</td><td>0.0</td><td>0.0</td><td>0.0</td><td>-0.079729</td><td>0.0</td><td>0.0</td><td>-0.277655</td><td>0.0</td><td>0.0</td><td>0.0</td><td>0.0</td><td>0.0</td><td>0.0</td><td>&hellip;</td><td>-0.19659</td><td>-0.168825</td><td>-0.171862</td><td>-0.03859</td><td>2.23738</td><td>-0.209992</td><td>-0.166585</td><td>0.0</td><td>0.466776</td><td>-0.269134</td><td>-0.215371</td><td>-0.227765</td><td>-0.134284</td><td>0.954552</td><td>1.633615</td><td>0.0</td><td>0.0</td><td>-0.065916</td><td>-1.052295</td><td>0.0</td><td>-0.093759</td><td>0.501227</td><td>0.0</td><td>0.0</td><td>0.0</td><td>0.0</td><td>0.0</td><td>-0.106413</td><td>-0.087198</td><td>-0.085003</td><td>-0.04631</td><td>-0.04502</td><td>-0.046697</td><td>-0.097291</td><td>0.0</td><td>0.0</td><td>9163817</td></tr><tr><td>-0.566768</td><td>2.100275</td><td>-0.148182</td><td>0.55397</td><td>-0.885678</td><td>-0.232508</td><td>-0.230703</td><td>-0.143491</td><td>0.688487</td><td>0.484039</td><td>0.434244</td><td>0.811375</td><td>0.802686</td><td>-0.290787</td><td>-0.084695</td><td>-0.307839</td><td>-0.098522</td><td>-0.363207</td><td>-0.230211</td><td>0.0</td><td>0.0</td><td>0.0</td><td>0.0</td><td>0.0</td><td>0.0</td><td>0.0</td><td>0.0</td><td>-0.079729</td><td>0.0</td><td>0.0</td><td>-0.277655</td><td>0.0</td><td>0.0</td><td>0.0</td><td>0.0</td><td>0.0</td><td>0.0</td><td>&hellip;</td><td>-0.19659</td><td>-0.168825</td><td>5.818621</td><td>-0.03859</td><td>2.23738</td><td>-0.209992</td><td>-0.166585</td><td>0.0</td><td>0.466776</td><td>-0.269134</td><td>-0.215371</td><td>-0.227765</td><td>-0.134284</td><td>-0.795362</td><td>-0.769294</td><td>-0.712849</td><td>0.008183</td><td>-0.160765</td><td>-0.390998</td><td>-0.875008</td><td>-0.064345</td><td>0.501227</td><td>-0.19187</td><td>-0.189169</td><td>-0.080843</td><td>0.769235</td><td>-0.432442</td><td>0.0</td><td>0.0</td><td>0.0</td><td>0.0</td><td>0.0</td><td>0.0</td><td>-0.059738</td><td>0.0</td><td>0.0</td><td>9163837</td></tr><tr><td>-0.566768</td><td>2.100275</td><td>-0.148182</td><td>0.55397</td><td>-0.885678</td><td>-0.232508</td><td>-0.230703</td><td>-0.143491</td><td>0.688487</td><td>0.484039</td><td>0.434244</td><td>0.811375</td><td>0.802686</td><td>-0.290787</td><td>-0.084695</td><td>-0.307839</td><td>-0.098522</td><td>-0.363207</td><td>-0.230211</td><td>0.0</td><td>0.0</td><td>0.978475</td><td>0.0</td><td>0.0</td><td>0.0</td><td>0.0</td><td>0.0</td><td>-0.079729</td><td>0.0</td><td>0.0</td><td>0.0</td><td>0.0</td><td>0.0</td><td>0.561878</td><td>0.0</td><td>0.0</td><td>0.0</td><td>&hellip;</td><td>-0.19659</td><td>-0.168825</td><td>5.818621</td><td>-0.03859</td><td>2.23738</td><td>-0.209992</td><td>-0.166585</td><td>0.0</td><td>0.466776</td><td>-0.269134</td><td>-0.215371</td><td>-0.227765</td><td>-0.134284</td><td>0.603111</td><td>1.151031</td><td>0.295122</td><td>-0.175944</td><td>0.417751</td><td>0.206676</td><td>1.315678</td><td>-0.079567</td><td>-1.995103</td><td>0.0</td><td>0.0</td><td>0.0</td><td>0.0</td><td>0.0</td><td>0.0</td><td>0.0</td><td>0.0</td><td>0.0</td><td>0.0</td><td>0.0</td><td>-0.078247</td><td>0.0</td><td>0.0</td><td>9163975</td></tr><tr><td>-0.566768</td><td>-0.476128</td><td>-0.148182</td><td>0.55397</td><td>1.129079</td><td>-0.232508</td><td>-0.230703</td><td>-0.626304</td><td>1.425744</td><td>0.484039</td><td>0.434244</td><td>0.811375</td><td>0.802686</td><td>-0.290787</td><td>-0.084695</td><td>-0.307839</td><td>-0.098522</td><td>-0.363207</td><td>-0.230211</td><td>0.0</td><td>0.0</td><td>0.365937</td><td>0.0</td><td>0.0</td><td>0.0</td><td>0.0</td><td>0.0</td><td>-0.079729</td><td>0.0</td><td>0.0</td><td>0.0</td><td>0.0</td><td>0.0</td><td>0.918153</td><td>0.0</td><td>0.0</td><td>0.0</td><td>&hellip;</td><td>-0.19659</td><td>-0.168825</td><td>-0.171862</td><td>-0.03859</td><td>2.23738</td><td>-0.209992</td><td>-0.166585</td><td>0.0</td><td>0.466776</td><td>-0.269134</td><td>-0.215371</td><td>-0.227765</td><td>-0.134284</td><td>-0.266516</td><td>-0.043105</td><td>0.295122</td><td>-0.015683</td><td>-0.658725</td><td>-0.222937</td><td>0.014011</td><td>-0.07464</td><td>0.501227</td><td>0.0</td><td>0.0</td><td>0.0</td><td>0.0</td><td>0.0</td><td>0.0</td><td>0.0</td><td>0.0</td><td>0.0</td><td>0.0</td><td>0.0</td><td>-0.074649</td><td>0.0</td><td>1.0</td><td>9164009</td></tr></tbody></table></div>"
      ],
      "text/plain": [
       "shape: (258_915, 106)\n",
       "┌────────────┬────────────┬────────────┬────────────┬───┬───────────┬───────────┬────────┬─────────┐\n",
       "│ tu_income_ ┆ misaligned ┆ improbable ┆ infrequent ┆ … ┆ inc_by_st ┆ inc_by_ci ┆ _6pd30 ┆ lead_id │\n",
       "│ estimator  ┆ _pay_freqe ┆ _pay_date  ┆ _pay_date  ┆   ┆ ate_wise_ ┆ ty_wise_a ┆ ---    ┆ ---     │\n",
       "│ ---        ┆ ncy        ┆ ---        ┆ ---        ┆   ┆ avginc    ┆ vginc     ┆ f32    ┆ i64     │\n",
       "│ f64        ┆ ---        ┆ f64        ┆ f64        ┆   ┆ ---       ┆ ---       ┆        ┆         │\n",
       "│            ┆ f64        ┆            ┆            ┆   ┆ f64       ┆ f64       ┆        ┆         │\n",
       "╞════════════╪════════════╪════════════╪════════════╪═══╪═══════════╪═══════════╪════════╪═════════╡\n",
       "│ 0.0        ┆ -0.476128  ┆ -0.148182  ┆ 0.55397    ┆ … ┆ -0.08797  ┆ 0.0       ┆ 0.0    ┆ 42      │\n",
       "│ 0.0        ┆ 2.100275   ┆ -0.148182  ┆ 0.55397    ┆ … ┆ -0.09869  ┆ -0.08512  ┆ 1.0    ┆ 93      │\n",
       "│ 0.0        ┆ -0.476128  ┆ -0.148182  ┆ -1.805153  ┆ … ┆ -0.051308 ┆ 0.0       ┆ 0.0    ┆ 127     │\n",
       "│ 0.0        ┆ -0.476128  ┆ -0.148182  ┆ 0.55397    ┆ … ┆ -0.080523 ┆ -0.073473 ┆ 0.0    ┆ 174     │\n",
       "│ 0.0        ┆ -0.476128  ┆ -0.148182  ┆ 0.55397    ┆ … ┆ -0.049174 ┆ -0.049123 ┆ 0.0    ┆ 289     │\n",
       "│ …          ┆ …          ┆ …          ┆ …          ┆ … ┆ …         ┆ …         ┆ …      ┆ …       │\n",
       "│ 0.049895   ┆ -0.476128  ┆ -0.148182  ┆ 0.55397    ┆ … ┆ -0.076784 ┆ 0.0       ┆ 0.0    ┆ 9163748 │\n",
       "│ 0.049895   ┆ -0.476128  ┆ -0.148182  ┆ -1.805153  ┆ … ┆ -0.097291 ┆ 0.0       ┆ 0.0    ┆ 9163817 │\n",
       "│ -0.566768  ┆ 2.100275   ┆ -0.148182  ┆ 0.55397    ┆ … ┆ -0.059738 ┆ 0.0       ┆ 0.0    ┆ 9163837 │\n",
       "│ -0.566768  ┆ 2.100275   ┆ -0.148182  ┆ 0.55397    ┆ … ┆ -0.078247 ┆ 0.0       ┆ 0.0    ┆ 9163975 │\n",
       "│ -0.566768  ┆ -0.476128  ┆ -0.148182  ┆ 0.55397    ┆ … ┆ -0.074649 ┆ 0.0       ┆ 1.0    ┆ 9164009 │\n",
       "└────────────┴────────────┴────────────┴────────────┴───┴───────────┴───────────┴────────┴─────────┘"
      ]
     },
     "execution_count": 3,
     "metadata": {},
     "output_type": "execute_result"
    }
   ],
   "source": [
    "pd.read_parquet('s3://ml-framework-prod/dheerajks/employment_analyses/data/train.parquet')"
   ]
  },
  {
   "cell_type": "code",
   "execution_count": 110,
   "metadata": {},
   "outputs": [
    {
     "name": "stdout",
     "output_type": "stream",
     "text": [
      "Polars Load Time: 1.31 seconds\n"
     ]
    }
   ],
   "source": [
    "file_path = 's3://ml-framework-prod/dheerajks/employment_analyses/data/income_model_idvs_2024_10_03.parquet'\n",
    "\n",
    "# Load using Polars\n",
    "start = time.time()\n",
    "df = pl.read_parquet(file_path)\n",
    "end = time.time()\n",
    "print(f\"Polars Load Time: {end - start:.2f} seconds\")"
   ]
  },
  {
   "cell_type": "code",
   "execution_count": 111,
   "metadata": {},
   "outputs": [
    {
     "data": {
      "text/plain": [
       "['loanid',\n",
       " 'leadid',\n",
       " 'starter_loan_flag',\n",
       " 'channel',\n",
       " 'paymentfrequency',\n",
       " 'repaymentfrequency']"
      ]
     },
     "execution_count": 111,
     "metadata": {},
     "output_type": "execute_result"
    }
   ],
   "source": [
    "numerical_cols = [col for col, dtype in zip(df.columns,df.dtypes) if dtype in (pl.Int64,  pl.Int32, pl.Float64, pl.Float32)]\n",
    "datetime_cols = [col for col, dtype in zip(df.columns,df.dtypes) if dtype == pl.Datetime]\n",
    "object_cols = [col for col, dtype in zip(df.columns, df.dtypes) if dtype == pl.Utf8]\n",
    "object_cols"
   ]
  },
  {
   "cell_type": "code",
   "execution_count": 112,
   "metadata": {},
   "outputs": [],
   "source": [
    "df = df.with_columns(\n",
    "    pl.col('starter_loan_flag').str.replace('true', True).str.replace('false', False).cast(pl.Int32).alias('starter_loan_flag')\n",
    ")"
   ]
  },
  {
   "cell_type": "code",
   "execution_count": 106,
   "metadata": {},
   "outputs": [],
   "source": [
    "from sklearn.preprocessing import StandardScaler"
   ]
  },
  {
   "cell_type": "code",
   "execution_count": 113,
   "metadata": {},
   "outputs": [],
   "source": [
    "\n",
    "df = df.with_columns(\n",
    "[pl.col(numerical_cols).fill_null(float('nan'))]\n",
    ")\n",
    "df = df.with_columns([\n",
    "    pl.col(numerical_cols).replace([float('inf'), float('-inf')], None)\n",
    "])"
   ]
  },
  {
   "cell_type": "code",
   "execution_count": 108,
   "metadata": {},
   "outputs": [
    {
     "data": {
      "text/html": [
       "<div><style>\n",
       ".dataframe > thead > tr,\n",
       ".dataframe > tbody > tr {\n",
       "  text-align: right;\n",
       "  white-space: pre-wrap;\n",
       "}\n",
       "</style>\n",
       "<small>shape: (400_942, 109)</small><table border=\"1\" class=\"dataframe\"><thead><tr><th>lead_id</th><th>employmentstatus</th><th>stated_income</th><th>requestamount</th><th>repaymentmethod</th><th>tu_income_estimator</th><th>misaligned_pay_freqency</th><th>improbable_pay_date</th><th>infrequent_pay_date</th><th>due_dt_disbursal_date_diff</th><th>paymentstartdate_disbursal_date_diff</th><th>due_dt_paydate1_diff</th><th>paymentstartdate_paydate1_diff</th><th>paydate1_application_create_date_diff</th><th>paydate1_lead_create_date_diff</th><th>paymentstartdate_paydate1_same_flag</th><th>due_dt_paydate1_same_flag</th><th>paydate1_day</th><th>paydate1_weekday</th><th>paymentstartdate_weekday</th><th>lead_create_date_weekday</th><th>application_create_date_weekday</th><th>due_dt_weekday</th><th>paymentstartdate_paydate1_notsame_and_weekend_flag</th><th>due_dt_paydate1_notsame_and_weekend_flag</th><th>paydate1_holiday_flag</th><th>paydate1_holiday_or_weekend_flag</th><th>paymentstartdate_holiday_flag</th><th>paymentstartdate_holiday_or_weekend_flag</th><th>due_dt_holiday_flag</th><th>due_dt_holiday_or_weekend_flag</th><th>goverment_benefits_paydate_alignment_flag</th><th>ft_emp_logic_employerdomainmatches</th><th>ft_emp_logic_employermatchpercentage</th><th>ft_emp_logic_employermatchratio</th><th>ft_emp_logic_employernames</th><th>ft_emp_logic_homeziptoworkzipdistances</th><th>&hellip;</th><th>employment_employer_unparsed</th><th>no_of_times_job_switched_12_months</th><th>no_of_times_job_switched_1_months</th><th>no_of_times_job_switched_24_months</th><th>no_of_times_job_switched_2_months</th><th>no_of_times_job_switched_36_months</th><th>no_of_times_job_switched_3_months</th><th>no_of_times_job_switched_48_months</th><th>no_of_times_job_switched_60_months</th><th>no_of_times_job_switched_6_months</th><th>no_of_times_job_switched_96_months</th><th>no_of_times_job_switched_ever</th><th>lti</th><th>income_rounding</th><th>payment_freq_bi_weekly</th><th>payment_freq_monthly</th><th>payment_freq_twice_per_month</th><th>payment_freq_weekly</th><th>payment_freq_other</th><th>repayment_freq_bi_weekly</th><th>repayment_freq_monthly</th><th>repayment_freq_twice_per_month</th><th>repayment_freq_weekly</th><th>employmentstatus_employment</th><th>employmentstatus_selfemployed</th><th>employmentstatus_governmentbenefit</th><th>employmentstatus_pension_or_annuity</th><th>employmentstatus_other</th><th>pti_1</th><th>pti_2</th><th>current_debt</th><th>current_usi_debt</th><th>cca_num_of_employers_last_six_months</th><th>cca_reported_net_monthly_income_previously_seen</th><th>RTI</th><th>DTI_current_debt</th><th>DTI_current_usi_debt</th></tr><tr><td>f64</td><td>f64</td><td>f64</td><td>f64</td><td>f64</td><td>f64</td><td>f64</td><td>f64</td><td>f64</td><td>f64</td><td>f64</td><td>f64</td><td>f64</td><td>f64</td><td>f64</td><td>f64</td><td>f64</td><td>f64</td><td>f64</td><td>f64</td><td>f64</td><td>f64</td><td>f64</td><td>f64</td><td>f64</td><td>f64</td><td>f64</td><td>f64</td><td>f64</td><td>f64</td><td>f64</td><td>f64</td><td>f64</td><td>f64</td><td>f64</td><td>f64</td><td>f64</td><td>&hellip;</td><td>f64</td><td>f64</td><td>f64</td><td>f64</td><td>f64</td><td>f64</td><td>f64</td><td>f64</td><td>f64</td><td>f64</td><td>f64</td><td>f64</td><td>f64</td><td>f64</td><td>f64</td><td>f64</td><td>f64</td><td>f64</td><td>f64</td><td>f64</td><td>f64</td><td>f64</td><td>f64</td><td>f64</td><td>f64</td><td>f64</td><td>f64</td><td>f64</td><td>f64</td><td>f64</td><td>f64</td><td>f64</td><td>f64</td><td>f64</td><td>f64</td><td>f64</td><td>f64</td></tr></thead><tbody><tr><td>1.992233e6</td><td>1.0</td><td>42000.0</td><td>2000.0</td><td>1.0</td><td>NaN</td><td>0.0</td><td>0.0</td><td>-2.0</td><td>0.0</td><td>0.0</td><td>0.0</td><td>0.0</td><td>0.0</td><td>0.0</td><td>1.0</td><td>17.0</td><td>15.0</td><td>3.0</td><td>4.0</td><td>1.0</td><td>2.0</td><td>6.0</td><td>0.0</td><td>1.0</td><td>0.0</td><td>0.0</td><td>0.0</td><td>0.0</td><td>0.0</td><td>1.0</td><td>0.0</td><td>NaN</td><td>NaN</td><td>0.927059</td><td>NaN</td><td>NaN</td><td>&hellip;</td><td>NaN</td><td>0.0</td><td>0.0</td><td>0.0</td><td>0.0</td><td>0.0</td><td>0.0</td><td>1.0</td><td>1.0</td><td>0.0</td><td>1.0</td><td>1.0</td><td>0.025</td><td>1.0</td><td>0.0</td><td>0.0</td><td>0.0</td><td>0.0</td><td>0.0</td><td>0.0</td><td>0.0</td><td>0.0</td><td>0.0</td><td>1.0</td><td>0.0</td><td>0.0</td><td>0.0</td><td>0.0</td><td>0.029109</td><td>0.058217</td><td>787.0</td><td>NaN</td><td>1.0</td><td>5000.0</td><td>0.047619</td><td>0.018738</td><td>NaN</td></tr><tr><td>2.636831e6</td><td>1.0</td><td>54600.0</td><td>3000.0</td><td>4.0</td><td>NaN</td><td>0.0</td><td>0.0</td><td>-1.0</td><td>0.0</td><td>0.0</td><td>0.0</td><td>0.0</td><td>0.0</td><td>0.0</td><td>14.0</td><td>28.0</td><td>30.0</td><td>2.0</td><td>2.0</td><td>3.0</td><td>3.0</td><td>2.0</td><td>0.0</td><td>0.0</td><td>0.0</td><td>0.0</td><td>0.0</td><td>0.0</td><td>0.0</td><td>0.0</td><td>0.0</td><td>NaN</td><td>NaN</td><td>NaN</td><td>NaN</td><td>NaN</td><td>&hellip;</td><td>NaN</td><td>0.0</td><td>0.0</td><td>0.0</td><td>0.0</td><td>0.0</td><td>0.0</td><td>0.0</td><td>0.0</td><td>0.0</td><td>1.0</td><td>2.0</td><td>0.028846</td><td>1.0</td><td>0.0</td><td>0.0</td><td>0.0</td><td>0.0</td><td>0.0</td><td>0.0</td><td>0.0</td><td>0.0</td><td>0.0</td><td>1.0</td><td>0.0</td><td>0.0</td><td>0.0</td><td>0.0</td><td>0.031782</td><td>0.068862</td><td>851.0</td><td>690.0</td><td>2.0</td><td>4500.0</td><td>0.054945</td><td>0.015586</td><td>0.012637</td></tr><tr><td>4.471053e6</td><td>1.0</td><td>26400.0</td><td>4000.0</td><td>1.0</td><td>39999.0</td><td>0.0</td><td>0.0</td><td>-2.0</td><td>0.0</td><td>0.0</td><td>0.0</td><td>0.0</td><td>0.0</td><td>0.0</td><td>14.0</td><td>28.0</td><td>5.0</td><td>4.0</td><td>4.0</td><td>0.0</td><td>0.0</td><td>4.0</td><td>0.0</td><td>0.0</td><td>0.0</td><td>0.0</td><td>0.0</td><td>0.0</td><td>0.0</td><td>0.0</td><td>0.0</td><td>NaN</td><td>NaN</td><td>0.563348</td><td>NaN</td><td>NaN</td><td>&hellip;</td><td>NaN</td><td>0.0</td><td>0.0</td><td>0.0</td><td>0.0</td><td>0.0</td><td>0.0</td><td>0.0</td><td>0.0</td><td>0.0</td><td>1.0</td><td>2.0</td><td>0.059659</td><td>1.0</td><td>0.0</td><td>0.0</td><td>0.0</td><td>0.0</td><td>0.0</td><td>0.0</td><td>0.0</td><td>0.0</td><td>0.0</td><td>1.0</td><td>0.0</td><td>0.0</td><td>0.0</td><td>0.0</td><td>0.0506</td><td>0.109633</td><td>308.0</td><td>NaN</td><td>0.0</td><td>2600.0</td><td>0.151515</td><td>0.011667</td><td>NaN</td></tr><tr><td>5.127363e6</td><td>1.0</td><td>39600.0</td><td>3000.0</td><td>1.0</td><td>39999.0</td><td>0.0</td><td>0.0</td><td>-2.0</td><td>0.0</td><td>0.0</td><td>0.0</td><td>0.0</td><td>0.0</td><td>0.0</td><td>14.0</td><td>28.0</td><td>18.0</td><td>4.0</td><td>4.0</td><td>1.0</td><td>1.0</td><td>4.0</td><td>0.0</td><td>0.0</td><td>0.0</td><td>0.0</td><td>0.0</td><td>0.0</td><td>0.0</td><td>0.0</td><td>0.0</td><td>NaN</td><td>NaN</td><td>0.242857</td><td>NaN</td><td>NaN</td><td>&hellip;</td><td>NaN</td><td>1.0</td><td>0.0</td><td>1.0</td><td>0.0</td><td>1.0</td><td>0.0</td><td>2.0</td><td>2.0</td><td>0.0</td><td>2.0</td><td>2.0</td><td>0.025253</td><td>1.0</td><td>0.0</td><td>0.0</td><td>0.0</td><td>0.0</td><td>0.0</td><td>0.0</td><td>0.0</td><td>0.0</td><td>0.0</td><td>1.0</td><td>0.0</td><td>0.0</td><td>0.0</td><td>0.0</td><td>0.025191</td><td>0.05458</td><td>146.0</td><td>42.0</td><td>2.0</td><td>4000.0</td><td>0.075758</td><td>0.003687</td><td>0.001061</td></tr><tr><td>5.453198e6</td><td>7.0</td><td>28080.0</td><td>1000.0</td><td>1.0</td><td>39999.0</td><td>1.0</td><td>0.0</td><td>-1.0</td><td>0.0</td><td>0.0</td><td>0.0</td><td>0.0</td><td>0.0</td><td>0.0</td><td>7.0</td><td>21.0</td><td>10.0</td><td>1.0</td><td>1.0</td><td>1.0</td><td>1.0</td><td>1.0</td><td>0.0</td><td>0.0</td><td>0.0</td><td>0.0</td><td>0.0</td><td>0.0</td><td>0.0</td><td>0.0</td><td>0.0</td><td>NaN</td><td>NaN</td><td>NaN</td><td>NaN</td><td>NaN</td><td>&hellip;</td><td>NaN</td><td>0.0</td><td>0.0</td><td>0.0</td><td>0.0</td><td>0.0</td><td>0.0</td><td>0.0</td><td>0.0</td><td>0.0</td><td>0.0</td><td>1.0</td><td>0.018697</td><td>0.0</td><td>0.0</td><td>0.0</td><td>0.0</td><td>0.0</td><td>0.0</td><td>0.0</td><td>0.0</td><td>0.0</td><td>0.0</td><td>0.0</td><td>0.0</td><td>1.0</td><td>0.0</td><td>0.0</td><td>0.010466</td><td>0.022676</td><td>140.0</td><td>101.0</td><td>0.0</td><td>3000.0</td><td>0.035613</td><td>0.004986</td><td>0.003597</td></tr><tr><td>&hellip;</td><td>&hellip;</td><td>&hellip;</td><td>&hellip;</td><td>&hellip;</td><td>&hellip;</td><td>&hellip;</td><td>&hellip;</td><td>&hellip;</td><td>&hellip;</td><td>&hellip;</td><td>&hellip;</td><td>&hellip;</td><td>&hellip;</td><td>&hellip;</td><td>&hellip;</td><td>&hellip;</td><td>&hellip;</td><td>&hellip;</td><td>&hellip;</td><td>&hellip;</td><td>&hellip;</td><td>&hellip;</td><td>&hellip;</td><td>&hellip;</td><td>&hellip;</td><td>&hellip;</td><td>&hellip;</td><td>&hellip;</td><td>&hellip;</td><td>&hellip;</td><td>&hellip;</td><td>&hellip;</td><td>&hellip;</td><td>&hellip;</td><td>&hellip;</td><td>&hellip;</td><td>&hellip;</td><td>&hellip;</td><td>&hellip;</td><td>&hellip;</td><td>&hellip;</td><td>&hellip;</td><td>&hellip;</td><td>&hellip;</td><td>&hellip;</td><td>&hellip;</td><td>&hellip;</td><td>&hellip;</td><td>&hellip;</td><td>&hellip;</td><td>&hellip;</td><td>&hellip;</td><td>&hellip;</td><td>&hellip;</td><td>&hellip;</td><td>&hellip;</td><td>&hellip;</td><td>&hellip;</td><td>&hellip;</td><td>&hellip;</td><td>&hellip;</td><td>&hellip;</td><td>&hellip;</td><td>&hellip;</td><td>&hellip;</td><td>&hellip;</td><td>&hellip;</td><td>&hellip;</td><td>&hellip;</td><td>&hellip;</td><td>&hellip;</td><td>&hellip;</td><td>&hellip;</td><td>&hellip;</td></tr><tr><td>63022.0</td><td>5.0</td><td>23856.0</td><td>6500.0</td><td>1.0</td><td>NaN</td><td>0.0</td><td>0.0</td><td>-2.0</td><td>0.0</td><td>0.0</td><td>1.0</td><td>1.0</td><td>0.0</td><td>0.0</td><td>0.0</td><td>0.0</td><td>3.0</td><td>2.0</td><td>2.0</td><td>1.0</td><td>1.0</td><td>2.0</td><td>0.0</td><td>0.0</td><td>0.0</td><td>0.0</td><td>0.0</td><td>0.0</td><td>0.0</td><td>0.0</td><td>1.0</td><td>NaN</td><td>NaN</td><td>NaN</td><td>NaN</td><td>NaN</td><td>&hellip;</td><td>NaN</td><td>0.0</td><td>0.0</td><td>1.0</td><td>0.0</td><td>2.0</td><td>0.0</td><td>2.0</td><td>2.0</td><td>0.0</td><td>2.0</td><td>2.0</td><td>0.197015</td><td>0.0</td><td>0.0</td><td>0.0</td><td>0.0</td><td>0.0</td><td>0.0</td><td>0.0</td><td>0.0</td><td>0.0</td><td>0.0</td><td>0.0</td><td>0.0</td><td>0.0</td><td>0.0</td><td>1.0</td><td>0.112666</td><td>0.112666</td><td>529.0</td><td>110.0</td><td>0.0</td><td>3000.0</td><td>0.272468</td><td>0.022175</td><td>0.004611</td></tr><tr><td>72487.0</td><td>1.0</td><td>90000.0</td><td>2500.0</td><td>2.0</td><td>NaN</td><td>1.0</td><td>0.0</td><td>-2.0</td><td>0.0</td><td>0.0</td><td>0.0</td><td>0.0</td><td>0.0</td><td>0.0</td><td>31.0</td><td>31.0</td><td>15.0</td><td>4.0</td><td>0.0</td><td>0.0</td><td>0.0</td><td>0.0</td><td>0.0</td><td>0.0</td><td>0.0</td><td>0.0</td><td>0.0</td><td>0.0</td><td>0.0</td><td>0.0</td><td>0.0</td><td>NaN</td><td>NaN</td><td>NaN</td><td>NaN</td><td>NaN</td><td>&hellip;</td><td>NaN</td><td>1.0</td><td>1.0</td><td>1.0</td><td>1.0</td><td>1.0</td><td>1.0</td><td>1.0</td><td>1.0</td><td>1.0</td><td>1.0</td><td>2.0</td><td>0.027778</td><td>1.0</td><td>0.0</td><td>0.0</td><td>0.0</td><td>0.0</td><td>0.0</td><td>0.0</td><td>0.0</td><td>0.0</td><td>0.0</td><td>1.0</td><td>0.0</td><td>0.0</td><td>0.0</td><td>0.0</td><td>0.020385</td><td>0.020385</td><td>3321.0</td><td>1437.0</td><td>1.0</td><td>6066.0</td><td>0.027778</td><td>0.0369</td><td>0.015967</td></tr><tr><td>36413.0</td><td>1.0</td><td>80400.0</td><td>3000.0</td><td>1.0</td><td>NaN</td><td>1.0</td><td>0.0</td><td>-1.0</td><td>0.0</td><td>0.0</td><td>0.0</td><td>0.0</td><td>0.0</td><td>0.0</td><td>30.0</td><td>30.0</td><td>3.0</td><td>4.0</td><td>6.0</td><td>0.0</td><td>0.0</td><td>6.0</td><td>1.0</td><td>1.0</td><td>0.0</td><td>0.0</td><td>0.0</td><td>1.0</td><td>0.0</td><td>1.0</td><td>0.0</td><td>NaN</td><td>NaN</td><td>NaN</td><td>NaN</td><td>NaN</td><td>&hellip;</td><td>NaN</td><td>1.0</td><td>0.0</td><td>1.0</td><td>0.0</td><td>1.0</td><td>1.0</td><td>1.0</td><td>1.0</td><td>1.0</td><td>1.0</td><td>2.0</td><td>0.037313</td><td>1.0</td><td>0.0</td><td>0.0</td><td>0.0</td><td>0.0</td><td>0.0</td><td>0.0</td><td>0.0</td><td>0.0</td><td>0.0</td><td>1.0</td><td>0.0</td><td>0.0</td><td>0.0</td><td>0.0</td><td>0.027261</td><td>0.027261</td><td>NaN</td><td>NaN</td><td>NaN</td><td>NaN</td><td>0.037313</td><td>NaN</td><td>NaN</td></tr><tr><td>40705.0</td><td>1.0</td><td>3.8808e6</td><td>4000.0</td><td>1.0</td><td>NaN</td><td>0.0</td><td>0.0</td><td>-2.0</td><td>0.0</td><td>0.0</td><td>0.0</td><td>0.0</td><td>0.0</td><td>0.0</td><td>14.0</td><td>28.0</td><td>17.0</td><td>4.0</td><td>4.0</td><td>0.0</td><td>0.0</td><td>4.0</td><td>0.0</td><td>0.0</td><td>0.0</td><td>0.0</td><td>0.0</td><td>0.0</td><td>0.0</td><td>0.0</td><td>0.0</td><td>NaN</td><td>NaN</td><td>NaN</td><td>NaN</td><td>NaN</td><td>&hellip;</td><td>NaN</td><td>0.0</td><td>0.0</td><td>0.0</td><td>0.0</td><td>1.0</td><td>0.0</td><td>2.0</td><td>2.0</td><td>0.0</td><td>2.0</td><td>2.0</td><td>0.001031</td><td>1.0</td><td>0.0</td><td>0.0</td><td>0.0</td><td>0.0</td><td>0.0</td><td>0.0</td><td>0.0</td><td>0.0</td><td>0.0</td><td>1.0</td><td>0.0</td><td>0.0</td><td>0.0</td><td>0.0</td><td>0.000272</td><td>0.000589</td><td>1310.0</td><td>100.0</td><td>1.0</td><td>4600.0</td><td>0.001031</td><td>0.000338</td><td>0.000026</td></tr><tr><td>334432.0</td><td>1.0</td><td>62580.0</td><td>7500.0</td><td>1.0</td><td>NaN</td><td>0.0</td><td>0.0</td><td>-2.0</td><td>0.0</td><td>0.0</td><td>0.0</td><td>0.0</td><td>0.0</td><td>0.0</td><td>14.0</td><td>28.0</td><td>28.0</td><td>4.0</td><td>4.0</td><td>1.0</td><td>1.0</td><td>4.0</td><td>0.0</td><td>0.0</td><td>0.0</td><td>0.0</td><td>0.0</td><td>0.0</td><td>0.0</td><td>0.0</td><td>0.0</td><td>NaN</td><td>NaN</td><td>NaN</td><td>NaN</td><td>NaN</td><td>&hellip;</td><td>NaN</td><td>1.0</td><td>0.0</td><td>1.0</td><td>0.0</td><td>1.0</td><td>0.0</td><td>1.0</td><td>1.0</td><td>0.0</td><td>2.0</td><td>2.0</td><td>0.119847</td><td>0.0</td><td>0.0</td><td>0.0</td><td>0.0</td><td>0.0</td><td>0.0</td><td>0.0</td><td>0.0</td><td>0.0</td><td>0.0</td><td>1.0</td><td>0.0</td><td>0.0</td><td>0.0</td><td>0.0</td><td>0.057954</td><td>0.125567</td><td>2869.0</td><td>NaN</td><td>NaN</td><td>NaN</td><td>0.119847</td><td>0.045845</td><td>NaN</td></tr></tbody></table></div>"
      ],
      "text/plain": [
       "shape: (400_942, 109)\n",
       "┌───────────┬───────────┬───────────┬───────────┬───┬───────────┬──────────┬───────────┬───────────┐\n",
       "│ lead_id   ┆ employmen ┆ stated_in ┆ requestam ┆ … ┆ cca_repor ┆ RTI      ┆ DTI_curre ┆ DTI_curre │\n",
       "│ ---       ┆ tstatus   ┆ come      ┆ ount      ┆   ┆ ted_net_m ┆ ---      ┆ nt_debt   ┆ nt_usi_de │\n",
       "│ f64       ┆ ---       ┆ ---       ┆ ---       ┆   ┆ onthly_in ┆ f64      ┆ ---       ┆ bt        │\n",
       "│           ┆ f64       ┆ f64       ┆ f64       ┆   ┆ com…      ┆          ┆ f64       ┆ ---       │\n",
       "│           ┆           ┆           ┆           ┆   ┆ ---       ┆          ┆           ┆ f64       │\n",
       "│           ┆           ┆           ┆           ┆   ┆ f64       ┆          ┆           ┆           │\n",
       "╞═══════════╪═══════════╪═══════════╪═══════════╪═══╪═══════════╪══════════╪═══════════╪═══════════╡\n",
       "│ 1.992233e ┆ 1.0       ┆ 42000.0   ┆ 2000.0    ┆ … ┆ 5000.0    ┆ 0.047619 ┆ 0.018738  ┆ NaN       │\n",
       "│ 6         ┆           ┆           ┆           ┆   ┆           ┆          ┆           ┆           │\n",
       "│ 2.636831e ┆ 1.0       ┆ 54600.0   ┆ 3000.0    ┆ … ┆ 4500.0    ┆ 0.054945 ┆ 0.015586  ┆ 0.012637  │\n",
       "│ 6         ┆           ┆           ┆           ┆   ┆           ┆          ┆           ┆           │\n",
       "│ 4.471053e ┆ 1.0       ┆ 26400.0   ┆ 4000.0    ┆ … ┆ 2600.0    ┆ 0.151515 ┆ 0.011667  ┆ NaN       │\n",
       "│ 6         ┆           ┆           ┆           ┆   ┆           ┆          ┆           ┆           │\n",
       "│ 5.127363e ┆ 1.0       ┆ 39600.0   ┆ 3000.0    ┆ … ┆ 4000.0    ┆ 0.075758 ┆ 0.003687  ┆ 0.001061  │\n",
       "│ 6         ┆           ┆           ┆           ┆   ┆           ┆          ┆           ┆           │\n",
       "│ 5.453198e ┆ 7.0       ┆ 28080.0   ┆ 1000.0    ┆ … ┆ 3000.0    ┆ 0.035613 ┆ 0.004986  ┆ 0.003597  │\n",
       "│ 6         ┆           ┆           ┆           ┆   ┆           ┆          ┆           ┆           │\n",
       "│ …         ┆ …         ┆ …         ┆ …         ┆ … ┆ …         ┆ …        ┆ …         ┆ …         │\n",
       "│ 63022.0   ┆ 5.0       ┆ 23856.0   ┆ 6500.0    ┆ … ┆ 3000.0    ┆ 0.272468 ┆ 0.022175  ┆ 0.004611  │\n",
       "│ 72487.0   ┆ 1.0       ┆ 90000.0   ┆ 2500.0    ┆ … ┆ 6066.0    ┆ 0.027778 ┆ 0.0369    ┆ 0.015967  │\n",
       "│ 36413.0   ┆ 1.0       ┆ 80400.0   ┆ 3000.0    ┆ … ┆ NaN       ┆ 0.037313 ┆ NaN       ┆ NaN       │\n",
       "│ 40705.0   ┆ 1.0       ┆ 3.8808e6  ┆ 4000.0    ┆ … ┆ 4600.0    ┆ 0.001031 ┆ 0.000338  ┆ 0.000026  │\n",
       "│ 334432.0  ┆ 1.0       ┆ 62580.0   ┆ 7500.0    ┆ … ┆ NaN       ┆ 0.119847 ┆ 0.045845  ┆ NaN       │\n",
       "└───────────┴───────────┴───────────┴───────────┴───┴───────────┴──────────┴───────────┴───────────┘"
      ]
     },
     "execution_count": 108,
     "metadata": {},
     "output_type": "execute_result"
    }
   ],
   "source": [
    "df.select(numerical_cols)"
   ]
  },
  {
   "cell_type": "code",
   "execution_count": 109,
   "metadata": {},
   "outputs": [
    {
     "name": "stderr",
     "output_type": "stream",
     "text": [
      "/home/ubuntu/anaconda3/lib/python3.10/site-packages/sklearn/utils/extmath.py:985: RuntimeWarning: invalid value encountered in true_divide\n",
      "  updated_mean = (last_sum + new_sum) / updated_sample_count\n",
      "/home/ubuntu/anaconda3/lib/python3.10/site-packages/sklearn/utils/extmath.py:990: RuntimeWarning: invalid value encountered in true_divide\n",
      "  T = new_sum / new_sample_count\n",
      "/home/ubuntu/anaconda3/lib/python3.10/site-packages/sklearn/utils/extmath.py:1020: RuntimeWarning: invalid value encountered in true_divide\n",
      "  new_unnormalized_variance -= correction ** 2 / new_sample_count\n"
     ]
    },
    {
     "data": {
      "text/html": [
       "<div><style>\n",
       ".dataframe > thead > tr,\n",
       ".dataframe > tbody > tr {\n",
       "  text-align: right;\n",
       "  white-space: pre-wrap;\n",
       "}\n",
       "</style>\n",
       "<small>shape: (400_942, 122)</small><table border=\"1\" class=\"dataframe\"><thead><tr><th>loanid</th><th>lead_id</th><th>leadid</th><th>disbursal_date</th><th>due_dt</th><th>payment_dt</th><th>starter_loan_flag</th><th>channel</th><th>paydate1</th><th>lead_create_date</th><th>employmentstatus</th><th>stated_income</th><th>requestamount</th><th>paymentfrequency</th><th>repaymentfrequency</th><th>paymentstartdate</th><th>application_create_date</th><th>repaymentmethod</th><th>tu_income_estimator</th><th>misaligned_pay_freqency</th><th>improbable_pay_date</th><th>infrequent_pay_date</th><th>due_dt_disbursal_date_diff</th><th>paymentstartdate_disbursal_date_diff</th><th>due_dt_paydate1_diff</th><th>paymentstartdate_paydate1_diff</th><th>paydate1_application_create_date_diff</th><th>paydate1_lead_create_date_diff</th><th>paymentstartdate_paydate1_same_flag</th><th>due_dt_paydate1_same_flag</th><th>paydate1_day</th><th>paydate1_weekday</th><th>paymentstartdate_weekday</th><th>lead_create_date_weekday</th><th>application_create_date_weekday</th><th>due_dt_weekday</th><th>paymentstartdate_paydate1_notsame_and_weekend_flag</th><th>&hellip;</th><th>employment_employer_unparsed</th><th>no_of_times_job_switched_12_months</th><th>no_of_times_job_switched_1_months</th><th>no_of_times_job_switched_24_months</th><th>no_of_times_job_switched_2_months</th><th>no_of_times_job_switched_36_months</th><th>no_of_times_job_switched_3_months</th><th>no_of_times_job_switched_48_months</th><th>no_of_times_job_switched_60_months</th><th>no_of_times_job_switched_6_months</th><th>no_of_times_job_switched_96_months</th><th>no_of_times_job_switched_ever</th><th>lti</th><th>income_rounding</th><th>payment_freq_bi_weekly</th><th>payment_freq_monthly</th><th>payment_freq_twice_per_month</th><th>payment_freq_weekly</th><th>payment_freq_other</th><th>repayment_freq_bi_weekly</th><th>repayment_freq_monthly</th><th>repayment_freq_twice_per_month</th><th>repayment_freq_weekly</th><th>employmentstatus_employment</th><th>employmentstatus_selfemployed</th><th>employmentstatus_governmentbenefit</th><th>employmentstatus_pension_or_annuity</th><th>employmentstatus_other</th><th>pti_1</th><th>pti_2</th><th>current_debt</th><th>current_usi_debt</th><th>cca_num_of_employers_last_six_months</th><th>cca_reported_net_monthly_income_previously_seen</th><th>RTI</th><th>DTI_current_debt</th><th>DTI_current_usi_debt</th></tr><tr><td>str</td><td>f64</td><td>str</td><td>datetime[ns]</td><td>datetime[ns]</td><td>datetime[ns]</td><td>i32</td><td>str</td><td>datetime[ns]</td><td>datetime[ns]</td><td>f64</td><td>f64</td><td>f64</td><td>str</td><td>str</td><td>datetime[ns]</td><td>datetime[ns]</td><td>f64</td><td>f64</td><td>f64</td><td>f64</td><td>f64</td><td>f64</td><td>f64</td><td>f64</td><td>f64</td><td>f64</td><td>f64</td><td>f64</td><td>f64</td><td>f64</td><td>f64</td><td>f64</td><td>f64</td><td>f64</td><td>f64</td><td>f64</td><td>&hellip;</td><td>f64</td><td>f64</td><td>f64</td><td>f64</td><td>f64</td><td>f64</td><td>f64</td><td>f64</td><td>f64</td><td>f64</td><td>f64</td><td>f64</td><td>f64</td><td>f64</td><td>f64</td><td>f64</td><td>f64</td><td>f64</td><td>f64</td><td>f64</td><td>f64</td><td>f64</td><td>f64</td><td>f64</td><td>f64</td><td>f64</td><td>f64</td><td>f64</td><td>f64</td><td>f64</td><td>f64</td><td>f64</td><td>f64</td><td>f64</td><td>f64</td><td>f64</td><td>f64</td></tr></thead><tbody><tr><td>&quot;LAI-00092480&quot;</td><td>-1.076019</td><td>&quot;546838288177@19H1&quot;</td><td>2019-08-01 00:00:00</td><td>2019-09-01 00:00:00</td><td>2019-09-01 00:00:00</td><td>1</td><td>&quot;PS&quot;</td><td>2019-08-15 00:00:00</td><td>2019-07-30 16:55:37</td><td>-0.369538</td><td>-0.092636</td><td>-0.300962</td><td>&quot;TWICE_PER_MONTH&quot;</td><td>&quot;TWICE_PER_MONTH&quot;</td><td>2019-08-16 00:00:00</td><td>2019-07-31 08:59:13</td><td>-0.154608</td><td>NaN</td><td>-0.473863</td><td>-0.143303</td><td>-0.551019</td><td>0.0</td><td>-0.010235</td><td>-0.279645</td><td>-0.886403</td><td>-0.235093</td><td>-0.233417</td><td>-0.480314</td><td>-0.203687</td><td>-0.047201</td><td>-0.252</td><td>0.435386</td><td>-0.802518</td><td>-0.272932</td><td>1.824517</td><td>-0.289477</td><td>&hellip;</td><td>NaN</td><td>-0.487948</td><td>-0.138423</td><td>-0.693191</td><td>-0.195868</td><td>-0.867476</td><td>-0.241434</td><td>0.294052</td><td>0.103961</td><td>-0.344924</td><td>-0.319042</td><td>-2.258978</td><td>-0.972317</td><td>0.503115</td><td>-0.459358</td><td>-0.224623</td><td>-0.185014</td><td>-0.197738</td><td>-0.045518</td><td>-0.513445</td><td>-0.239078</td><td>-0.182912</td><td>0.0</td><td>0.467579</td><td>-0.268262</td><td>-0.214394</td><td>-0.231644</td><td>-0.133079</td><td>-0.391715</td><td>-0.318498</td><td>-0.192726</td><td>NaN</td><td>0.291693</td><td>-0.001461</td><td>-0.245758</td><td>-0.004346</td><td>NaN</td></tr><tr><td>&quot;LAI-00121272&quot;</td><td>-0.855784</td><td>&quot;576839437287@19K1&quot;</td><td>2019-10-25 00:00:00</td><td>2019-11-27 00:00:00</td><td>null</td><td>1</td><td>&quot;PS&quot;</td><td>2019-10-30 00:00:00</td><td>2019-10-24 14:48:33</td><td>-0.369538</td><td>-0.076328</td><td>-0.080018</td><td>&quot;BI_WEEKLY&quot;</td><td>&quot;BI_WEEKLY&quot;</td><td>2019-11-13 00:00:00</td><td>2019-10-24 14:51:11</td><td>7.140217</td><td>NaN</td><td>-0.473863</td><td>-0.143303</td><td>1.814819</td><td>0.0</td><td>-0.010235</td><td>-0.279645</td><td>-0.886403</td><td>-0.235093</td><td>-0.233417</td><td>0.290216</td><td>0.439973</td><td>1.533356</td><td>-0.988352</td><td>-0.974444</td><td>0.272472</td><td>0.264548</td><td>-0.974354</td><td>-0.289477</td><td>&hellip;</td><td>NaN</td><td>-0.487948</td><td>-0.138423</td><td>-0.693191</td><td>-0.195868</td><td>-0.867476</td><td>-0.241434</td><td>-1.033877</td><td>-1.194419</td><td>-0.344924</td><td>-0.319042</td><td>0.442678</td><td>-0.903053</td><td>0.503115</td><td>-0.459358</td><td>-0.224623</td><td>-0.185014</td><td>-0.197738</td><td>-0.045518</td><td>-0.513445</td><td>-0.239078</td><td>-0.182912</td><td>0.0</td><td>0.467579</td><td>-0.268262</td><td>-0.214394</td><td>-0.231644</td><td>-0.133079</td><td>-0.305217</td><td>-0.098889</td><td>-0.132194</td><td>0.58776</td><td>1.29251</td><td>-0.032165</td><td>-0.182499</td><td>-0.215052</td><td>0.680975</td></tr><tr><td>&quot;LAI-00201559&quot;</td><td>-0.229098</td><td>&quot;699961605241@21C1&quot;</td><td>2021-03-02 00:00:00</td><td>2021-04-02 00:00:00</td><td>2021-04-02 00:00:00</td><td>1</td><td>&quot;PS&quot;</td><td>2021-03-05 00:00:00</td><td>2021-03-01 14:01:00</td><td>-0.369538</td><td>-0.112826</td><td>0.140926</td><td>&quot;BI_WEEKLY&quot;</td><td>&quot;BI_WEEKLY&quot;</td><td>2021-03-19 00:00:00</td><td>2021-03-01 14:05:31</td><td>-0.154608</td><td>-0.560291</td><td>-0.473863</td><td>-0.143303</td><td>-0.551019</td><td>0.0</td><td>-0.010235</td><td>-0.279645</td><td>-0.886403</td><td>-0.235093</td><td>-0.233417</td><td>0.290216</td><td>0.439973</td><td>-1.100906</td><td>0.484351</td><td>0.435386</td><td>-1.340014</td><td>-1.347891</td><td>0.425081</td><td>-0.289477</td><td>&hellip;</td><td>NaN</td><td>-0.487948</td><td>-0.138423</td><td>-0.693191</td><td>-0.195868</td><td>-0.867476</td><td>-0.241434</td><td>-1.033877</td><td>-1.194419</td><td>-0.344924</td><td>-0.319042</td><td>0.442678</td><td>-0.348152</td><td>0.503115</td><td>-0.459358</td><td>-0.224623</td><td>-0.185014</td><td>-0.197738</td><td>-0.045518</td><td>-0.513445</td><td>-0.239078</td><td>-0.182912</td><td>0.0</td><td>0.467579</td><td>-0.268262</td><td>-0.214394</td><td>-0.231644</td><td>-0.133079</td><td>0.303528</td><td>0.742253</td><td>-0.645765</td><td>NaN</td><td>-0.709124</td><td>-0.148839</td><td>0.651366</td><td>-0.477058</td><td>NaN</td></tr><tr><td>&quot;LAI-00215716&quot;</td><td>-0.00486</td><td>&quot;726939495270@21F2&quot;</td><td>2021-06-15 00:00:00</td><td>2021-07-16 00:00:00</td><td>2021-07-16 00:00:00</td><td>1</td><td>&quot;PS&quot;</td><td>2021-06-18 00:00:00</td><td>2021-06-15 12:32:33</td><td>-0.369538</td><td>-0.095742</td><td>-0.080018</td><td>&quot;BI_WEEKLY&quot;</td><td>&quot;BI_WEEKLY&quot;</td><td>2021-07-02 00:00:00</td><td>2021-06-15 12:38:08</td><td>-0.154608</td><td>-0.560291</td><td>-0.473863</td><td>-0.143303</td><td>-0.551019</td><td>0.0</td><td>-0.010235</td><td>-0.279645</td><td>-0.886403</td><td>-0.235093</td><td>-0.233417</td><td>0.290216</td><td>0.439973</td><td>0.26891</td><td>0.484351</td><td>0.435386</td><td>-0.802518</td><td>-0.810412</td><td>0.425081</td><td>-0.289477</td><td>&hellip;</td><td>NaN</td><td>1.594123</td><td>-0.138423</td><td>0.895477</td><td>-0.195868</td><td>0.538087</td><td>-0.241434</td><td>1.621982</td><td>1.402341</td><td>-0.344924</td><td>1.030608</td><td>0.442678</td><td>-0.967769</td><td>0.503115</td><td>-0.459358</td><td>-0.224623</td><td>-0.185014</td><td>-0.197738</td><td>-0.045518</td><td>-0.513445</td><td>-0.239078</td><td>-0.182912</td><td>0.0</td><td>0.467579</td><td>-0.268262</td><td>-0.214394</td><td>-0.231644</td><td>-0.133079</td><td>-0.518451</td><td>-0.393529</td><td>-0.798985</td><td>-0.977022</td><td>1.29251</td><td>-0.062869</td><td>-0.002787</td><td>-1.010492</td><td>-1.105654</td></tr><tr><td>&quot;LAI-00229385&quot;</td><td>0.106465</td><td>&quot;ON488268509&quot;</td><td>2021-08-04 00:00:00</td><td>2021-08-31 00:00:00</td><td>2021-08-31 00:00:00</td><td>1</td><td>&quot;ORG&quot;</td><td>2021-08-10 00:00:00</td><td>2021-08-03 13:14:38</td><td>3.174322</td><td>-0.110652</td><td>-0.521907</td><td>&quot;WEEKLY&quot;</td><td>&quot;BI_WEEKLY&quot;</td><td>2021-08-17 00:00:00</td><td>2021-08-03 13:20:22</td><td>-0.154608</td><td>-0.560291</td><td>2.110316</td><td>-0.143303</td><td>1.814819</td><td>0.0</td><td>-0.010235</td><td>-0.279645</td><td>-0.886403</td><td>-0.235093</td><td>-0.233417</td><td>-0.124685</td><td>0.030372</td><td>-0.574054</td><td>-1.724704</td><td>-1.679359</td><td>-0.802518</td><td>-0.810412</td><td>-1.674071</td><td>-0.289477</td><td>&hellip;</td><td>NaN</td><td>-0.487948</td><td>-0.138423</td><td>-0.693191</td><td>-0.195868</td><td>-0.867476</td><td>-0.241434</td><td>-1.033877</td><td>-1.194419</td><td>-0.344924</td><td>-1.668692</td><td>-2.258978</td><td>-1.085833</td><td>-1.987617</td><td>-0.459358</td><td>-0.224623</td><td>-0.185014</td><td>-0.197738</td><td>-0.045518</td><td>-0.513445</td><td>-0.239078</td><td>-0.182912</td><td>0.0</td><td>-2.138676</td><td>-0.268262</td><td>4.664303</td><td>-0.231644</td><td>-0.133079</td><td>-0.994805</td><td>-1.051738</td><td>-0.80466</td><td>-0.83455</td><td>-0.709124</td><td>-0.124276</td><td>-0.349432</td><td>-0.923664</td><td>-0.714236</td></tr><tr><td>&hellip;</td><td>&hellip;</td><td>&hellip;</td><td>&hellip;</td><td>&hellip;</td><td>&hellip;</td><td>&hellip;</td><td>&hellip;</td><td>&hellip;</td><td>&hellip;</td><td>&hellip;</td><td>&hellip;</td><td>&hellip;</td><td>&hellip;</td><td>&hellip;</td><td>&hellip;</td><td>&hellip;</td><td>&hellip;</td><td>&hellip;</td><td>&hellip;</td><td>&hellip;</td><td>&hellip;</td><td>&hellip;</td><td>&hellip;</td><td>&hellip;</td><td>&hellip;</td><td>&hellip;</td><td>&hellip;</td><td>&hellip;</td><td>&hellip;</td><td>&hellip;</td><td>&hellip;</td><td>&hellip;</td><td>&hellip;</td><td>&hellip;</td><td>&hellip;</td><td>&hellip;</td><td>&hellip;</td><td>&hellip;</td><td>&hellip;</td><td>&hellip;</td><td>&hellip;</td><td>&hellip;</td><td>&hellip;</td><td>&hellip;</td><td>&hellip;</td><td>&hellip;</td><td>&hellip;</td><td>&hellip;</td><td>&hellip;</td><td>&hellip;</td><td>&hellip;</td><td>&hellip;</td><td>&hellip;</td><td>&hellip;</td><td>&hellip;</td><td>&hellip;</td><td>&hellip;</td><td>&hellip;</td><td>&hellip;</td><td>&hellip;</td><td>&hellip;</td><td>&hellip;</td><td>&hellip;</td><td>&hellip;</td><td>&hellip;</td><td>&hellip;</td><td>&hellip;</td><td>&hellip;</td><td>&hellip;</td><td>&hellip;</td><td>&hellip;</td><td>&hellip;</td><td>&hellip;</td><td>&hellip;</td></tr><tr><td>&quot;LAI-00008930&quot;</td><td>-1.73516</td><td>&quot;699773646274@E2&quot;</td><td>2016-07-07 00:00:00</td><td>2016-08-03 00:00:00</td><td>2016-08-03 00:00:00</td><td>0</td><td>&quot;PS&quot;</td><td>2016-08-03 00:00:00</td><td>2016-07-05 11:51:23</td><td>1.993035</td><td>-0.116119</td><td>0.693286</td><td>&quot;MONTHLY&quot;</td><td>&quot;MONTHLY&quot;</td><td>2016-08-03 00:00:00</td><td>2016-07-05 12:02:38</td><td>-0.154608</td><td>NaN</td><td>-0.473863</td><td>-0.143303</td><td>-0.551019</td><td>0.0</td><td>-0.010235</td><td>3.575969</td><td>1.128155</td><td>-0.235093</td><td>-0.233417</td><td>-0.539586</td><td>-1.198434</td><td>-1.311647</td><td>-0.988352</td><td>-0.974444</td><td>-0.802518</td><td>-0.810412</td><td>-0.974354</td><td>-0.289477</td><td>&hellip;</td><td>NaN</td><td>-0.487948</td><td>-0.138423</td><td>0.895477</td><td>-0.195868</td><td>1.943649</td><td>-0.241434</td><td>1.621982</td><td>1.402341</td><td>-0.344924</td><td>1.030608</td><td>0.442678</td><td>2.125453</td><td>-1.987617</td><td>-0.459358</td><td>-0.224623</td><td>-0.185014</td><td>-0.197738</td><td>-0.045518</td><td>-0.513445</td><td>-0.239078</td><td>-0.182912</td><td>0.0</td><td>-2.138676</td><td>-0.268262</td><td>-0.214394</td><td>-0.231644</td><td>7.514317</td><td>2.311351</td><td>0.804819</td><td>-0.436743</td><td>-0.812817</td><td>-0.709124</td><td>-0.124276</td><td>1.695774</td><td>0.225386</td><td>-0.557725</td></tr><tr><td>&quot;LAI-00009134&quot;</td><td>-1.731926</td><td>&quot;747999729346@E2&quot;</td><td>2016-07-12 00:00:00</td><td>2016-08-15 00:00:00</td><td>2016-08-15 00:00:00</td><td>0</td><td>&quot;PS&quot;</td><td>2016-07-15 00:00:00</td><td>2016-07-11 15:23:46</td><td>-0.369538</td><td>-0.03051</td><td>-0.19049</td><td>&quot;TWICE_PER_MONTH&quot;</td><td>&quot;MONTHLY&quot;</td><td>2016-08-15 00:00:00</td><td>2016-07-11 16:13:18</td><td>2.277</td><td>NaN</td><td>2.110316</td><td>-0.143303</td><td>-0.551019</td><td>0.0</td><td>-0.010235</td><td>-0.279645</td><td>-0.886403</td><td>-0.235093</td><td>-0.233417</td><td>1.297832</td><td>0.615517</td><td>-0.047201</td><td>0.484351</td><td>-2.384274</td><td>-1.340014</td><td>-1.347891</td><td>-2.373789</td><td>-0.289477</td><td>&hellip;</td><td>NaN</td><td>1.594123</td><td>6.913408</td><td>0.895477</td><td>4.790621</td><td>0.538087</td><td>3.821723</td><td>0.294052</td><td>0.103961</td><td>2.520191</td><td>-0.319042</td><td>0.442678</td><td>-0.922293</td><td>0.503115</td><td>-0.459358</td><td>-0.224623</td><td>-0.185014</td><td>-0.197738</td><td>-0.045518</td><td>-0.513445</td><td>-0.239078</td><td>-0.182912</td><td>0.0</td><td>0.467579</td><td>-0.268262</td><td>-0.214394</td><td>-0.231644</td><td>-0.133079</td><td>-0.67391</td><td>-1.098995</td><td>2.203938</td><td>2.391607</td><td>0.291693</td><td>0.063999</td><td>-0.417084</td><td>1.209743</td><td>1.194783</td></tr><tr><td>&quot;LAI-00007728&quot;</td><td>-1.744251</td><td>&quot;YY23AQ3AH@D2&quot;</td><td>2016-05-26 00:00:00</td><td>2016-07-03 00:00:00</td><td>2016-07-03 00:00:00</td><td>0</td><td>&quot;PS&quot;</td><td>2016-06-03 00:00:00</td><td>2016-05-23 12:10:05</td><td>-0.369538</td><td>-0.042935</td><td>-0.080018</td><td>&quot;TWICE_PER_MONTH&quot;</td><td>&quot;MONTHLY&quot;</td><td>2016-07-03 00:00:00</td><td>2016-05-23 12:15:16</td><td>-0.154608</td><td>NaN</td><td>2.110316</td><td>-0.143303</td><td>1.814819</td><td>0.0</td><td>-0.010235</td><td>-0.279645</td><td>-0.886403</td><td>-0.235093</td><td>-0.233417</td><td>1.23856</td><td>0.557003</td><td>-1.311647</td><td>0.484351</td><td>1.845216</td><td>-1.340014</td><td>-1.347891</td><td>1.824517</td><td>3.454506</td><td>&hellip;</td><td>NaN</td><td>1.594123</td><td>-0.138423</td><td>0.895477</td><td>-0.195868</td><td>0.538087</td><td>3.821723</td><td>0.294052</td><td>0.103961</td><td>2.520191</td><td>-0.319042</td><td>0.442678</td><td>-0.750568</td><td>0.503115</td><td>-0.459358</td><td>-0.224623</td><td>-0.185014</td><td>-0.197738</td><td>-0.045518</td><td>-0.513445</td><td>-0.239078</td><td>-0.182912</td><td>0.0</td><td>0.467579</td><td>-0.268262</td><td>-0.214394</td><td>-0.231644</td><td>-0.133079</td><td>-0.451478</td><td>-0.957141</td><td>NaN</td><td>NaN</td><td>NaN</td><td>NaN</td><td>-0.334745</td><td>NaN</td><td>NaN</td></tr><tr><td>&quot;LAI-00008902&quot;</td><td>-1.742785</td><td>&quot;699797922692@E2&quot;</td><td>2016-06-16 00:00:00</td><td>2016-07-15 00:00:00</td><td>2016-07-15 00:00:00</td><td>0</td><td>&quot;PS&quot;</td><td>2016-06-17 00:00:00</td><td>2016-06-06 07:03:29</td><td>-0.369538</td><td>4.875845</td><td>0.140926</td><td>&quot;BI_WEEKLY&quot;</td><td>&quot;BI_WEEKLY&quot;</td><td>2016-07-01 00:00:00</td><td>2016-06-06 09:14:20</td><td>-0.154608</td><td>NaN</td><td>-0.473863</td><td>-0.143303</td><td>-0.551019</td><td>0.0</td><td>-0.010235</td><td>-0.279645</td><td>-0.886403</td><td>-0.235093</td><td>-0.233417</td><td>0.290216</td><td>0.439973</td><td>0.163539</td><td>0.484351</td><td>0.435386</td><td>-1.340014</td><td>-1.347891</td><td>0.425081</td><td>-0.289477</td><td>&hellip;</td><td>NaN</td><td>-0.487948</td><td>-0.138423</td><td>-0.693191</td><td>-0.195868</td><td>0.538087</td><td>-0.241434</td><td>1.621982</td><td>1.402341</td><td>-0.344924</td><td>1.030608</td><td>0.442678</td><td>-1.403972</td><td>0.503115</td><td>-0.459358</td><td>-0.224623</td><td>-0.185014</td><td>-0.197738</td><td>-0.045518</td><td>-0.513445</td><td>-0.239078</td><td>-0.182912</td><td>0.0</td><td>0.467579</td><td>-0.268262</td><td>-0.214394</td><td>-0.231644</td><td>-0.133079</td><td>-1.324583</td><td>-1.507415</td><td>0.301929</td><td>-0.836964</td><td>0.291693</td><td>-0.026024</td><td>-0.64804</td><td>-1.234387</td><td>-1.26536</td></tr><tr><td>&quot;LAI-00014162&quot;</td><td>-1.642429</td><td>&quot;183965256069@H2&quot;</td><td>2016-10-25 00:00:00</td><td>2016-11-25 00:00:00</td><td>2016-11-25 00:00:00</td><td>0</td><td>&quot;PS&quot;</td><td>2016-10-28 00:00:00</td><td>2016-10-25 05:57:07</td><td>-0.369538</td><td>-0.065999</td><td>0.91423</td><td>&quot;BI_WEEKLY&quot;</td><td>&quot;BI_WEEKLY&quot;</td><td>2016-11-11 00:00:00</td><td>2016-10-25 05:59:59</td><td>-0.154608</td><td>NaN</td><td>-0.473863</td><td>-0.143303</td><td>-0.551019</td><td>0.0</td><td>-0.010235</td><td>-0.279645</td><td>-0.886403</td><td>-0.235093</td><td>-0.233417</td><td>0.290216</td><td>0.439973</td><td>1.322615</td><td>0.484351</td><td>0.435386</td><td>-0.802518</td><td>-0.810412</td><td>0.425081</td><td>-0.289477</td><td>&hellip;</td><td>NaN</td><td>1.594123</td><td>-0.138423</td><td>0.895477</td><td>-0.195868</td><td>0.538087</td><td>-0.241434</td><td>0.294052</td><td>0.103961</td><td>-0.344924</td><td>1.030608</td><td>0.442678</td><td>0.735745</td><td>-1.987617</td><td>-0.459358</td><td>-0.224623</td><td>-0.185014</td><td>-0.197738</td><td>-0.045518</td><td>-0.513445</td><td>-0.239078</td><td>-0.182912</td><td>0.0</td><td>0.467579</td><td>-0.268262</td><td>-0.214394</td><td>-0.231644</td><td>-0.133079</td><td>0.541428</td><td>1.070975</td><td>1.776436</td><td>NaN</td><td>NaN</td><td>NaN</td><td>0.377914</td><td>1.807721</td><td>NaN</td></tr></tbody></table></div>"
      ],
      "text/plain": [
       "shape: (400_942, 122)\n",
       "┌───────────┬───────────┬───────────┬───────────┬───┬───────────┬───────────┬───────────┬──────────┐\n",
       "│ loanid    ┆ lead_id   ┆ leadid    ┆ disbursal ┆ … ┆ cca_repor ┆ RTI       ┆ DTI_curre ┆ DTI_curr │\n",
       "│ ---       ┆ ---       ┆ ---       ┆ _date     ┆   ┆ ted_net_m ┆ ---       ┆ nt_debt   ┆ ent_usi_ │\n",
       "│ str       ┆ f64       ┆ str       ┆ ---       ┆   ┆ onthly_in ┆ f64       ┆ ---       ┆ debt     │\n",
       "│           ┆           ┆           ┆ datetime[ ┆   ┆ com…      ┆           ┆ f64       ┆ ---      │\n",
       "│           ┆           ┆           ┆ ns]       ┆   ┆ ---       ┆           ┆           ┆ f64      │\n",
       "│           ┆           ┆           ┆           ┆   ┆ f64       ┆           ┆           ┆          │\n",
       "╞═══════════╪═══════════╪═══════════╪═══════════╪═══╪═══════════╪═══════════╪═══════════╪══════════╡\n",
       "│ LAI-00092 ┆ -1.076019 ┆ 546838288 ┆ 2019-08-0 ┆ … ┆ -0.001461 ┆ -0.245758 ┆ -0.004346 ┆ NaN      │\n",
       "│ 480       ┆           ┆ 177@19H1  ┆ 1         ┆   ┆           ┆           ┆           ┆          │\n",
       "│           ┆           ┆           ┆ 00:00:00  ┆   ┆           ┆           ┆           ┆          │\n",
       "│ LAI-00121 ┆ -0.855784 ┆ 576839437 ┆ 2019-10-2 ┆ … ┆ -0.032165 ┆ -0.182499 ┆ -0.215052 ┆ 0.680975 │\n",
       "│ 272       ┆           ┆ 287@19K1  ┆ 5         ┆   ┆           ┆           ┆           ┆          │\n",
       "│           ┆           ┆           ┆ 00:00:00  ┆   ┆           ┆           ┆           ┆          │\n",
       "│ LAI-00201 ┆ -0.229098 ┆ 699961605 ┆ 2021-03-0 ┆ … ┆ -0.148839 ┆ 0.651366  ┆ -0.477058 ┆ NaN      │\n",
       "│ 559       ┆           ┆ 241@21C1  ┆ 2         ┆   ┆           ┆           ┆           ┆          │\n",
       "│           ┆           ┆           ┆ 00:00:00  ┆   ┆           ┆           ┆           ┆          │\n",
       "│ LAI-00215 ┆ -0.00486  ┆ 726939495 ┆ 2021-06-1 ┆ … ┆ -0.062869 ┆ -0.002787 ┆ -1.010492 ┆ -1.10565 │\n",
       "│ 716       ┆           ┆ 270@21F2  ┆ 5         ┆   ┆           ┆           ┆           ┆ 4        │\n",
       "│           ┆           ┆           ┆ 00:00:00  ┆   ┆           ┆           ┆           ┆          │\n",
       "│ LAI-00229 ┆ 0.106465  ┆ ON4882685 ┆ 2021-08-0 ┆ … ┆ -0.124276 ┆ -0.349432 ┆ -0.923664 ┆ -0.71423 │\n",
       "│ 385       ┆           ┆ 09        ┆ 4         ┆   ┆           ┆           ┆           ┆ 6        │\n",
       "│           ┆           ┆           ┆ 00:00:00  ┆   ┆           ┆           ┆           ┆          │\n",
       "│ …         ┆ …         ┆ …         ┆ …         ┆ … ┆ …         ┆ …         ┆ …         ┆ …        │\n",
       "│ LAI-00008 ┆ -1.73516  ┆ 699773646 ┆ 2016-07-0 ┆ … ┆ -0.124276 ┆ 1.695774  ┆ 0.225386  ┆ -0.55772 │\n",
       "│ 930       ┆           ┆ 274@E2    ┆ 7         ┆   ┆           ┆           ┆           ┆ 5        │\n",
       "│           ┆           ┆           ┆ 00:00:00  ┆   ┆           ┆           ┆           ┆          │\n",
       "│ LAI-00009 ┆ -1.731926 ┆ 747999729 ┆ 2016-07-1 ┆ … ┆ 0.063999  ┆ -0.417084 ┆ 1.209743  ┆ 1.194783 │\n",
       "│ 134       ┆           ┆ 346@E2    ┆ 2         ┆   ┆           ┆           ┆           ┆          │\n",
       "│           ┆           ┆           ┆ 00:00:00  ┆   ┆           ┆           ┆           ┆          │\n",
       "│ LAI-00007 ┆ -1.744251 ┆ YY23AQ3AH ┆ 2016-05-2 ┆ … ┆ NaN       ┆ -0.334745 ┆ NaN       ┆ NaN      │\n",
       "│ 728       ┆           ┆ @D2       ┆ 6         ┆   ┆           ┆           ┆           ┆          │\n",
       "│           ┆           ┆           ┆ 00:00:00  ┆   ┆           ┆           ┆           ┆          │\n",
       "│ LAI-00008 ┆ -1.742785 ┆ 699797922 ┆ 2016-06-1 ┆ … ┆ -0.026024 ┆ -0.64804  ┆ -1.234387 ┆ -1.26536 │\n",
       "│ 902       ┆           ┆ 692@E2    ┆ 6         ┆   ┆           ┆           ┆           ┆          │\n",
       "│           ┆           ┆           ┆ 00:00:00  ┆   ┆           ┆           ┆           ┆          │\n",
       "│ LAI-00014 ┆ -1.642429 ┆ 183965256 ┆ 2016-10-2 ┆ … ┆ NaN       ┆ 0.377914  ┆ 1.807721  ┆ NaN      │\n",
       "│ 162       ┆           ┆ 069@H2    ┆ 5         ┆   ┆           ┆           ┆           ┆          │\n",
       "│           ┆           ┆           ┆ 00:00:00  ┆   ┆           ┆           ┆           ┆          │\n",
       "└───────────┴───────────┴───────────┴───────────┴───┴───────────┴───────────┴───────────┴──────────┘"
      ]
     },
     "execution_count": 109,
     "metadata": {},
     "output_type": "execute_result"
    }
   ],
   "source": [
    "scl = StandardScaler()\n",
    "scl.fit(df.select(numerical_cols).to_numpy())\n",
    "\n",
    "scalred_data = scl.transform(df.select(numerical_cols).to_numpy())\n",
    "scalred_df = pl.DataFrame(scalred_data, schema=numerical_cols)\n",
    "df.with_columns([scalred_df[col] for col in numerical_cols])"
   ]
  },
  {
   "cell_type": "code",
   "execution_count": 120,
   "metadata": {},
   "outputs": [
    {
     "data": {
      "text/html": [
       "<div><style>\n",
       ".dataframe > thead > tr,\n",
       ".dataframe > tbody > tr {\n",
       "  text-align: right;\n",
       "  white-space: pre-wrap;\n",
       "}\n",
       "</style>\n",
       "<small>shape: (1, 1)</small><table border=\"1\" class=\"dataframe\"><thead><tr><th>channel</th></tr><tr><td>u32</td></tr></thead><tbody><tr><td>20</td></tr></tbody></table></div>"
      ],
      "text/plain": [
       "shape: (1, 1)\n",
       "┌─────────┐\n",
       "│ channel │\n",
       "│ ---     │\n",
       "│ u32     │\n",
       "╞═════════╡\n",
       "│ 20      │\n",
       "└─────────┘"
      ]
     },
     "execution_count": 120,
     "metadata": {},
     "output_type": "execute_result"
    }
   ],
   "source": [
    "df.select(pl.col('channel').n_unique())"
   ]
  },
  {
   "cell_type": "code",
   "execution_count": 121,
   "metadata": {},
   "outputs": [
    {
     "data": {
      "text/plain": [
       "0.5083328760768391"
      ]
     },
     "execution_count": 121,
     "metadata": {},
     "output_type": "execute_result"
    }
   ],
   "source": [
    "df['channel'].value_counts(normalize=True)[\"proportion\"].max()"
   ]
  },
  {
   "cell_type": "code",
   "execution_count": 97,
   "metadata": {},
   "outputs": [
    {
     "data": {
      "text/html": [
       "<div><style>\n",
       ".dataframe > thead > tr,\n",
       ".dataframe > tbody > tr {\n",
       "  text-align: right;\n",
       "  white-space: pre-wrap;\n",
       "}\n",
       "</style>\n",
       "<small>shape: (400_942, 122)</small><table border=\"1\" class=\"dataframe\"><thead><tr><th>loanid</th><th>lead_id</th><th>leadid</th><th>disbursal_date</th><th>due_dt</th><th>payment_dt</th><th>starter_loan_flag</th><th>channel</th><th>paydate1</th><th>lead_create_date</th><th>employmentstatus</th><th>stated_income</th><th>requestamount</th><th>paymentfrequency</th><th>repaymentfrequency</th><th>paymentstartdate</th><th>application_create_date</th><th>repaymentmethod</th><th>tu_income_estimator</th><th>misaligned_pay_freqency</th><th>improbable_pay_date</th><th>infrequent_pay_date</th><th>due_dt_disbursal_date_diff</th><th>paymentstartdate_disbursal_date_diff</th><th>due_dt_paydate1_diff</th><th>paymentstartdate_paydate1_diff</th><th>paydate1_application_create_date_diff</th><th>paydate1_lead_create_date_diff</th><th>paymentstartdate_paydate1_same_flag</th><th>due_dt_paydate1_same_flag</th><th>paydate1_day</th><th>paydate1_weekday</th><th>paymentstartdate_weekday</th><th>lead_create_date_weekday</th><th>application_create_date_weekday</th><th>due_dt_weekday</th><th>paymentstartdate_paydate1_notsame_and_weekend_flag</th><th>&hellip;</th><th>employment_employer_unparsed</th><th>no_of_times_job_switched_12_months</th><th>no_of_times_job_switched_1_months</th><th>no_of_times_job_switched_24_months</th><th>no_of_times_job_switched_2_months</th><th>no_of_times_job_switched_36_months</th><th>no_of_times_job_switched_3_months</th><th>no_of_times_job_switched_48_months</th><th>no_of_times_job_switched_60_months</th><th>no_of_times_job_switched_6_months</th><th>no_of_times_job_switched_96_months</th><th>no_of_times_job_switched_ever</th><th>lti</th><th>income_rounding</th><th>payment_freq_bi_weekly</th><th>payment_freq_monthly</th><th>payment_freq_twice_per_month</th><th>payment_freq_weekly</th><th>payment_freq_other</th><th>repayment_freq_bi_weekly</th><th>repayment_freq_monthly</th><th>repayment_freq_twice_per_month</th><th>repayment_freq_weekly</th><th>employmentstatus_employment</th><th>employmentstatus_selfemployed</th><th>employmentstatus_governmentbenefit</th><th>employmentstatus_pension_or_annuity</th><th>employmentstatus_other</th><th>pti_1</th><th>pti_2</th><th>current_debt</th><th>current_usi_debt</th><th>cca_num_of_employers_last_six_months</th><th>cca_reported_net_monthly_income_previously_seen</th><th>RTI</th><th>DTI_current_debt</th><th>DTI_current_usi_debt</th></tr><tr><td>str</td><td>f64</td><td>str</td><td>datetime[ns]</td><td>datetime[ns]</td><td>datetime[ns]</td><td>i32</td><td>str</td><td>datetime[ns]</td><td>datetime[ns]</td><td>f64</td><td>f64</td><td>f64</td><td>str</td><td>str</td><td>datetime[ns]</td><td>datetime[ns]</td><td>f64</td><td>f64</td><td>f64</td><td>f64</td><td>f64</td><td>f64</td><td>f64</td><td>f64</td><td>f64</td><td>f64</td><td>f64</td><td>f64</td><td>f64</td><td>f64</td><td>f64</td><td>f64</td><td>f64</td><td>f64</td><td>f64</td><td>f64</td><td>&hellip;</td><td>f64</td><td>f64</td><td>f64</td><td>f64</td><td>f64</td><td>f64</td><td>f64</td><td>f64</td><td>f64</td><td>f64</td><td>f64</td><td>f64</td><td>f64</td><td>f64</td><td>f64</td><td>f64</td><td>f64</td><td>f64</td><td>f64</td><td>f64</td><td>f64</td><td>f64</td><td>f64</td><td>f64</td><td>f64</td><td>f64</td><td>f64</td><td>f64</td><td>f64</td><td>f64</td><td>f64</td><td>f64</td><td>f64</td><td>f64</td><td>f64</td><td>f64</td><td>f64</td></tr></thead><tbody><tr><td>&quot;LAI-00092480&quot;</td><td>-1.076019</td><td>&quot;546838288177@19H1&quot;</td><td>2019-08-01 00:00:00</td><td>2019-09-01 00:00:00</td><td>2019-09-01 00:00:00</td><td>1</td><td>&quot;PS&quot;</td><td>2019-08-15 00:00:00</td><td>2019-07-30 16:55:37</td><td>-0.369538</td><td>-0.092636</td><td>-0.300962</td><td>&quot;TWICE_PER_MONTH&quot;</td><td>&quot;TWICE_PER_MONTH&quot;</td><td>2019-08-16 00:00:00</td><td>2019-07-31 08:59:13</td><td>-0.154608</td><td>NaN</td><td>-0.473863</td><td>-0.143303</td><td>-0.551019</td><td>0.0</td><td>-0.010235</td><td>-0.279645</td><td>-0.886403</td><td>-0.235093</td><td>-0.233417</td><td>-0.480314</td><td>-0.203687</td><td>-0.047201</td><td>-0.252</td><td>0.435386</td><td>-0.802518</td><td>-0.272932</td><td>1.824517</td><td>-0.289477</td><td>&hellip;</td><td>NaN</td><td>-0.487948</td><td>-0.138423</td><td>-0.693191</td><td>-0.195868</td><td>-0.867476</td><td>-0.241434</td><td>0.294052</td><td>0.103961</td><td>-0.344924</td><td>-0.319042</td><td>-2.258978</td><td>-0.972317</td><td>0.503115</td><td>-0.459358</td><td>-0.224623</td><td>-0.185014</td><td>-0.197738</td><td>-0.045518</td><td>-0.513445</td><td>-0.239078</td><td>-0.182912</td><td>0.0</td><td>0.467579</td><td>-0.268262</td><td>-0.214394</td><td>-0.231644</td><td>-0.133079</td><td>-0.391715</td><td>-0.318498</td><td>-0.192726</td><td>NaN</td><td>0.291693</td><td>-0.001461</td><td>-0.245758</td><td>-0.004346</td><td>NaN</td></tr><tr><td>&quot;LAI-00121272&quot;</td><td>-0.855784</td><td>&quot;576839437287@19K1&quot;</td><td>2019-10-25 00:00:00</td><td>2019-11-27 00:00:00</td><td>null</td><td>1</td><td>&quot;PS&quot;</td><td>2019-10-30 00:00:00</td><td>2019-10-24 14:48:33</td><td>-0.369538</td><td>-0.076328</td><td>-0.080018</td><td>&quot;BI_WEEKLY&quot;</td><td>&quot;BI_WEEKLY&quot;</td><td>2019-11-13 00:00:00</td><td>2019-10-24 14:51:11</td><td>7.140217</td><td>NaN</td><td>-0.473863</td><td>-0.143303</td><td>1.814819</td><td>0.0</td><td>-0.010235</td><td>-0.279645</td><td>-0.886403</td><td>-0.235093</td><td>-0.233417</td><td>0.290216</td><td>0.439973</td><td>1.533356</td><td>-0.988352</td><td>-0.974444</td><td>0.272472</td><td>0.264548</td><td>-0.974354</td><td>-0.289477</td><td>&hellip;</td><td>NaN</td><td>-0.487948</td><td>-0.138423</td><td>-0.693191</td><td>-0.195868</td><td>-0.867476</td><td>-0.241434</td><td>-1.033877</td><td>-1.194419</td><td>-0.344924</td><td>-0.319042</td><td>0.442678</td><td>-0.903053</td><td>0.503115</td><td>-0.459358</td><td>-0.224623</td><td>-0.185014</td><td>-0.197738</td><td>-0.045518</td><td>-0.513445</td><td>-0.239078</td><td>-0.182912</td><td>0.0</td><td>0.467579</td><td>-0.268262</td><td>-0.214394</td><td>-0.231644</td><td>-0.133079</td><td>-0.305217</td><td>-0.098889</td><td>-0.132194</td><td>0.58776</td><td>1.29251</td><td>-0.032165</td><td>-0.182499</td><td>-0.215052</td><td>0.680975</td></tr><tr><td>&quot;LAI-00201559&quot;</td><td>-0.229098</td><td>&quot;699961605241@21C1&quot;</td><td>2021-03-02 00:00:00</td><td>2021-04-02 00:00:00</td><td>2021-04-02 00:00:00</td><td>1</td><td>&quot;PS&quot;</td><td>2021-03-05 00:00:00</td><td>2021-03-01 14:01:00</td><td>-0.369538</td><td>-0.112826</td><td>0.140926</td><td>&quot;BI_WEEKLY&quot;</td><td>&quot;BI_WEEKLY&quot;</td><td>2021-03-19 00:00:00</td><td>2021-03-01 14:05:31</td><td>-0.154608</td><td>-0.560291</td><td>-0.473863</td><td>-0.143303</td><td>-0.551019</td><td>0.0</td><td>-0.010235</td><td>-0.279645</td><td>-0.886403</td><td>-0.235093</td><td>-0.233417</td><td>0.290216</td><td>0.439973</td><td>-1.100906</td><td>0.484351</td><td>0.435386</td><td>-1.340014</td><td>-1.347891</td><td>0.425081</td><td>-0.289477</td><td>&hellip;</td><td>NaN</td><td>-0.487948</td><td>-0.138423</td><td>-0.693191</td><td>-0.195868</td><td>-0.867476</td><td>-0.241434</td><td>-1.033877</td><td>-1.194419</td><td>-0.344924</td><td>-0.319042</td><td>0.442678</td><td>-0.348152</td><td>0.503115</td><td>-0.459358</td><td>-0.224623</td><td>-0.185014</td><td>-0.197738</td><td>-0.045518</td><td>-0.513445</td><td>-0.239078</td><td>-0.182912</td><td>0.0</td><td>0.467579</td><td>-0.268262</td><td>-0.214394</td><td>-0.231644</td><td>-0.133079</td><td>0.303528</td><td>0.742253</td><td>-0.645765</td><td>NaN</td><td>-0.709124</td><td>-0.148839</td><td>0.651366</td><td>-0.477058</td><td>NaN</td></tr><tr><td>&quot;LAI-00215716&quot;</td><td>-0.00486</td><td>&quot;726939495270@21F2&quot;</td><td>2021-06-15 00:00:00</td><td>2021-07-16 00:00:00</td><td>2021-07-16 00:00:00</td><td>1</td><td>&quot;PS&quot;</td><td>2021-06-18 00:00:00</td><td>2021-06-15 12:32:33</td><td>-0.369538</td><td>-0.095742</td><td>-0.080018</td><td>&quot;BI_WEEKLY&quot;</td><td>&quot;BI_WEEKLY&quot;</td><td>2021-07-02 00:00:00</td><td>2021-06-15 12:38:08</td><td>-0.154608</td><td>-0.560291</td><td>-0.473863</td><td>-0.143303</td><td>-0.551019</td><td>0.0</td><td>-0.010235</td><td>-0.279645</td><td>-0.886403</td><td>-0.235093</td><td>-0.233417</td><td>0.290216</td><td>0.439973</td><td>0.26891</td><td>0.484351</td><td>0.435386</td><td>-0.802518</td><td>-0.810412</td><td>0.425081</td><td>-0.289477</td><td>&hellip;</td><td>NaN</td><td>1.594123</td><td>-0.138423</td><td>0.895477</td><td>-0.195868</td><td>0.538087</td><td>-0.241434</td><td>1.621982</td><td>1.402341</td><td>-0.344924</td><td>1.030608</td><td>0.442678</td><td>-0.967769</td><td>0.503115</td><td>-0.459358</td><td>-0.224623</td><td>-0.185014</td><td>-0.197738</td><td>-0.045518</td><td>-0.513445</td><td>-0.239078</td><td>-0.182912</td><td>0.0</td><td>0.467579</td><td>-0.268262</td><td>-0.214394</td><td>-0.231644</td><td>-0.133079</td><td>-0.518451</td><td>-0.393529</td><td>-0.798985</td><td>-0.977022</td><td>1.29251</td><td>-0.062869</td><td>-0.002787</td><td>-1.010492</td><td>-1.105654</td></tr><tr><td>&quot;LAI-00229385&quot;</td><td>0.106465</td><td>&quot;ON488268509&quot;</td><td>2021-08-04 00:00:00</td><td>2021-08-31 00:00:00</td><td>2021-08-31 00:00:00</td><td>1</td><td>&quot;ORG&quot;</td><td>2021-08-10 00:00:00</td><td>2021-08-03 13:14:38</td><td>3.174322</td><td>-0.110652</td><td>-0.521907</td><td>&quot;WEEKLY&quot;</td><td>&quot;BI_WEEKLY&quot;</td><td>2021-08-17 00:00:00</td><td>2021-08-03 13:20:22</td><td>-0.154608</td><td>-0.560291</td><td>2.110316</td><td>-0.143303</td><td>1.814819</td><td>0.0</td><td>-0.010235</td><td>-0.279645</td><td>-0.886403</td><td>-0.235093</td><td>-0.233417</td><td>-0.124685</td><td>0.030372</td><td>-0.574054</td><td>-1.724704</td><td>-1.679359</td><td>-0.802518</td><td>-0.810412</td><td>-1.674071</td><td>-0.289477</td><td>&hellip;</td><td>NaN</td><td>-0.487948</td><td>-0.138423</td><td>-0.693191</td><td>-0.195868</td><td>-0.867476</td><td>-0.241434</td><td>-1.033877</td><td>-1.194419</td><td>-0.344924</td><td>-1.668692</td><td>-2.258978</td><td>-1.085833</td><td>-1.987617</td><td>-0.459358</td><td>-0.224623</td><td>-0.185014</td><td>-0.197738</td><td>-0.045518</td><td>-0.513445</td><td>-0.239078</td><td>-0.182912</td><td>0.0</td><td>-2.138676</td><td>-0.268262</td><td>4.664303</td><td>-0.231644</td><td>-0.133079</td><td>-0.994805</td><td>-1.051738</td><td>-0.80466</td><td>-0.83455</td><td>-0.709124</td><td>-0.124276</td><td>-0.349432</td><td>-0.923664</td><td>-0.714236</td></tr><tr><td>&hellip;</td><td>&hellip;</td><td>&hellip;</td><td>&hellip;</td><td>&hellip;</td><td>&hellip;</td><td>&hellip;</td><td>&hellip;</td><td>&hellip;</td><td>&hellip;</td><td>&hellip;</td><td>&hellip;</td><td>&hellip;</td><td>&hellip;</td><td>&hellip;</td><td>&hellip;</td><td>&hellip;</td><td>&hellip;</td><td>&hellip;</td><td>&hellip;</td><td>&hellip;</td><td>&hellip;</td><td>&hellip;</td><td>&hellip;</td><td>&hellip;</td><td>&hellip;</td><td>&hellip;</td><td>&hellip;</td><td>&hellip;</td><td>&hellip;</td><td>&hellip;</td><td>&hellip;</td><td>&hellip;</td><td>&hellip;</td><td>&hellip;</td><td>&hellip;</td><td>&hellip;</td><td>&hellip;</td><td>&hellip;</td><td>&hellip;</td><td>&hellip;</td><td>&hellip;</td><td>&hellip;</td><td>&hellip;</td><td>&hellip;</td><td>&hellip;</td><td>&hellip;</td><td>&hellip;</td><td>&hellip;</td><td>&hellip;</td><td>&hellip;</td><td>&hellip;</td><td>&hellip;</td><td>&hellip;</td><td>&hellip;</td><td>&hellip;</td><td>&hellip;</td><td>&hellip;</td><td>&hellip;</td><td>&hellip;</td><td>&hellip;</td><td>&hellip;</td><td>&hellip;</td><td>&hellip;</td><td>&hellip;</td><td>&hellip;</td><td>&hellip;</td><td>&hellip;</td><td>&hellip;</td><td>&hellip;</td><td>&hellip;</td><td>&hellip;</td><td>&hellip;</td><td>&hellip;</td><td>&hellip;</td></tr><tr><td>&quot;LAI-00008930&quot;</td><td>-1.73516</td><td>&quot;699773646274@E2&quot;</td><td>2016-07-07 00:00:00</td><td>2016-08-03 00:00:00</td><td>2016-08-03 00:00:00</td><td>0</td><td>&quot;PS&quot;</td><td>2016-08-03 00:00:00</td><td>2016-07-05 11:51:23</td><td>1.993035</td><td>-0.116119</td><td>0.693286</td><td>&quot;MONTHLY&quot;</td><td>&quot;MONTHLY&quot;</td><td>2016-08-03 00:00:00</td><td>2016-07-05 12:02:38</td><td>-0.154608</td><td>NaN</td><td>-0.473863</td><td>-0.143303</td><td>-0.551019</td><td>0.0</td><td>-0.010235</td><td>3.575969</td><td>1.128155</td><td>-0.235093</td><td>-0.233417</td><td>-0.539586</td><td>-1.198434</td><td>-1.311647</td><td>-0.988352</td><td>-0.974444</td><td>-0.802518</td><td>-0.810412</td><td>-0.974354</td><td>-0.289477</td><td>&hellip;</td><td>NaN</td><td>-0.487948</td><td>-0.138423</td><td>0.895477</td><td>-0.195868</td><td>1.943649</td><td>-0.241434</td><td>1.621982</td><td>1.402341</td><td>-0.344924</td><td>1.030608</td><td>0.442678</td><td>2.125453</td><td>-1.987617</td><td>-0.459358</td><td>-0.224623</td><td>-0.185014</td><td>-0.197738</td><td>-0.045518</td><td>-0.513445</td><td>-0.239078</td><td>-0.182912</td><td>0.0</td><td>-2.138676</td><td>-0.268262</td><td>-0.214394</td><td>-0.231644</td><td>7.514317</td><td>2.311351</td><td>0.804819</td><td>-0.436743</td><td>-0.812817</td><td>-0.709124</td><td>-0.124276</td><td>1.695774</td><td>0.225386</td><td>-0.557725</td></tr><tr><td>&quot;LAI-00009134&quot;</td><td>-1.731926</td><td>&quot;747999729346@E2&quot;</td><td>2016-07-12 00:00:00</td><td>2016-08-15 00:00:00</td><td>2016-08-15 00:00:00</td><td>0</td><td>&quot;PS&quot;</td><td>2016-07-15 00:00:00</td><td>2016-07-11 15:23:46</td><td>-0.369538</td><td>-0.03051</td><td>-0.19049</td><td>&quot;TWICE_PER_MONTH&quot;</td><td>&quot;MONTHLY&quot;</td><td>2016-08-15 00:00:00</td><td>2016-07-11 16:13:18</td><td>2.277</td><td>NaN</td><td>2.110316</td><td>-0.143303</td><td>-0.551019</td><td>0.0</td><td>-0.010235</td><td>-0.279645</td><td>-0.886403</td><td>-0.235093</td><td>-0.233417</td><td>1.297832</td><td>0.615517</td><td>-0.047201</td><td>0.484351</td><td>-2.384274</td><td>-1.340014</td><td>-1.347891</td><td>-2.373789</td><td>-0.289477</td><td>&hellip;</td><td>NaN</td><td>1.594123</td><td>6.913408</td><td>0.895477</td><td>4.790621</td><td>0.538087</td><td>3.821723</td><td>0.294052</td><td>0.103961</td><td>2.520191</td><td>-0.319042</td><td>0.442678</td><td>-0.922293</td><td>0.503115</td><td>-0.459358</td><td>-0.224623</td><td>-0.185014</td><td>-0.197738</td><td>-0.045518</td><td>-0.513445</td><td>-0.239078</td><td>-0.182912</td><td>0.0</td><td>0.467579</td><td>-0.268262</td><td>-0.214394</td><td>-0.231644</td><td>-0.133079</td><td>-0.67391</td><td>-1.098995</td><td>2.203938</td><td>2.391607</td><td>0.291693</td><td>0.063999</td><td>-0.417084</td><td>1.209743</td><td>1.194783</td></tr><tr><td>&quot;LAI-00007728&quot;</td><td>-1.744251</td><td>&quot;YY23AQ3AH@D2&quot;</td><td>2016-05-26 00:00:00</td><td>2016-07-03 00:00:00</td><td>2016-07-03 00:00:00</td><td>0</td><td>&quot;PS&quot;</td><td>2016-06-03 00:00:00</td><td>2016-05-23 12:10:05</td><td>-0.369538</td><td>-0.042935</td><td>-0.080018</td><td>&quot;TWICE_PER_MONTH&quot;</td><td>&quot;MONTHLY&quot;</td><td>2016-07-03 00:00:00</td><td>2016-05-23 12:15:16</td><td>-0.154608</td><td>NaN</td><td>2.110316</td><td>-0.143303</td><td>1.814819</td><td>0.0</td><td>-0.010235</td><td>-0.279645</td><td>-0.886403</td><td>-0.235093</td><td>-0.233417</td><td>1.23856</td><td>0.557003</td><td>-1.311647</td><td>0.484351</td><td>1.845216</td><td>-1.340014</td><td>-1.347891</td><td>1.824517</td><td>3.454506</td><td>&hellip;</td><td>NaN</td><td>1.594123</td><td>-0.138423</td><td>0.895477</td><td>-0.195868</td><td>0.538087</td><td>3.821723</td><td>0.294052</td><td>0.103961</td><td>2.520191</td><td>-0.319042</td><td>0.442678</td><td>-0.750568</td><td>0.503115</td><td>-0.459358</td><td>-0.224623</td><td>-0.185014</td><td>-0.197738</td><td>-0.045518</td><td>-0.513445</td><td>-0.239078</td><td>-0.182912</td><td>0.0</td><td>0.467579</td><td>-0.268262</td><td>-0.214394</td><td>-0.231644</td><td>-0.133079</td><td>-0.451478</td><td>-0.957141</td><td>NaN</td><td>NaN</td><td>NaN</td><td>NaN</td><td>-0.334745</td><td>NaN</td><td>NaN</td></tr><tr><td>&quot;LAI-00008902&quot;</td><td>-1.742785</td><td>&quot;699797922692@E2&quot;</td><td>2016-06-16 00:00:00</td><td>2016-07-15 00:00:00</td><td>2016-07-15 00:00:00</td><td>0</td><td>&quot;PS&quot;</td><td>2016-06-17 00:00:00</td><td>2016-06-06 07:03:29</td><td>-0.369538</td><td>4.875845</td><td>0.140926</td><td>&quot;BI_WEEKLY&quot;</td><td>&quot;BI_WEEKLY&quot;</td><td>2016-07-01 00:00:00</td><td>2016-06-06 09:14:20</td><td>-0.154608</td><td>NaN</td><td>-0.473863</td><td>-0.143303</td><td>-0.551019</td><td>0.0</td><td>-0.010235</td><td>-0.279645</td><td>-0.886403</td><td>-0.235093</td><td>-0.233417</td><td>0.290216</td><td>0.439973</td><td>0.163539</td><td>0.484351</td><td>0.435386</td><td>-1.340014</td><td>-1.347891</td><td>0.425081</td><td>-0.289477</td><td>&hellip;</td><td>NaN</td><td>-0.487948</td><td>-0.138423</td><td>-0.693191</td><td>-0.195868</td><td>0.538087</td><td>-0.241434</td><td>1.621982</td><td>1.402341</td><td>-0.344924</td><td>1.030608</td><td>0.442678</td><td>-1.403972</td><td>0.503115</td><td>-0.459358</td><td>-0.224623</td><td>-0.185014</td><td>-0.197738</td><td>-0.045518</td><td>-0.513445</td><td>-0.239078</td><td>-0.182912</td><td>0.0</td><td>0.467579</td><td>-0.268262</td><td>-0.214394</td><td>-0.231644</td><td>-0.133079</td><td>-1.324583</td><td>-1.507415</td><td>0.301929</td><td>-0.836964</td><td>0.291693</td><td>-0.026024</td><td>-0.64804</td><td>-1.234387</td><td>-1.26536</td></tr><tr><td>&quot;LAI-00014162&quot;</td><td>-1.642429</td><td>&quot;183965256069@H2&quot;</td><td>2016-10-25 00:00:00</td><td>2016-11-25 00:00:00</td><td>2016-11-25 00:00:00</td><td>0</td><td>&quot;PS&quot;</td><td>2016-10-28 00:00:00</td><td>2016-10-25 05:57:07</td><td>-0.369538</td><td>-0.065999</td><td>0.91423</td><td>&quot;BI_WEEKLY&quot;</td><td>&quot;BI_WEEKLY&quot;</td><td>2016-11-11 00:00:00</td><td>2016-10-25 05:59:59</td><td>-0.154608</td><td>NaN</td><td>-0.473863</td><td>-0.143303</td><td>-0.551019</td><td>0.0</td><td>-0.010235</td><td>-0.279645</td><td>-0.886403</td><td>-0.235093</td><td>-0.233417</td><td>0.290216</td><td>0.439973</td><td>1.322615</td><td>0.484351</td><td>0.435386</td><td>-0.802518</td><td>-0.810412</td><td>0.425081</td><td>-0.289477</td><td>&hellip;</td><td>NaN</td><td>1.594123</td><td>-0.138423</td><td>0.895477</td><td>-0.195868</td><td>0.538087</td><td>-0.241434</td><td>0.294052</td><td>0.103961</td><td>-0.344924</td><td>1.030608</td><td>0.442678</td><td>0.735745</td><td>-1.987617</td><td>-0.459358</td><td>-0.224623</td><td>-0.185014</td><td>-0.197738</td><td>-0.045518</td><td>-0.513445</td><td>-0.239078</td><td>-0.182912</td><td>0.0</td><td>0.467579</td><td>-0.268262</td><td>-0.214394</td><td>-0.231644</td><td>-0.133079</td><td>0.541428</td><td>1.070975</td><td>1.776436</td><td>NaN</td><td>NaN</td><td>NaN</td><td>0.377914</td><td>1.807721</td><td>NaN</td></tr></tbody></table></div>"
      ],
      "text/plain": [
       "shape: (400_942, 122)\n",
       "┌───────────┬───────────┬───────────┬───────────┬───┬───────────┬───────────┬───────────┬──────────┐\n",
       "│ loanid    ┆ lead_id   ┆ leadid    ┆ disbursal ┆ … ┆ cca_repor ┆ RTI       ┆ DTI_curre ┆ DTI_curr │\n",
       "│ ---       ┆ ---       ┆ ---       ┆ _date     ┆   ┆ ted_net_m ┆ ---       ┆ nt_debt   ┆ ent_usi_ │\n",
       "│ str       ┆ f64       ┆ str       ┆ ---       ┆   ┆ onthly_in ┆ f64       ┆ ---       ┆ debt     │\n",
       "│           ┆           ┆           ┆ datetime[ ┆   ┆ com…      ┆           ┆ f64       ┆ ---      │\n",
       "│           ┆           ┆           ┆ ns]       ┆   ┆ ---       ┆           ┆           ┆ f64      │\n",
       "│           ┆           ┆           ┆           ┆   ┆ f64       ┆           ┆           ┆          │\n",
       "╞═══════════╪═══════════╪═══════════╪═══════════╪═══╪═══════════╪═══════════╪═══════════╪══════════╡\n",
       "│ LAI-00092 ┆ -1.076019 ┆ 546838288 ┆ 2019-08-0 ┆ … ┆ -0.001461 ┆ -0.245758 ┆ -0.004346 ┆ NaN      │\n",
       "│ 480       ┆           ┆ 177@19H1  ┆ 1         ┆   ┆           ┆           ┆           ┆          │\n",
       "│           ┆           ┆           ┆ 00:00:00  ┆   ┆           ┆           ┆           ┆          │\n",
       "│ LAI-00121 ┆ -0.855784 ┆ 576839437 ┆ 2019-10-2 ┆ … ┆ -0.032165 ┆ -0.182499 ┆ -0.215052 ┆ 0.680975 │\n",
       "│ 272       ┆           ┆ 287@19K1  ┆ 5         ┆   ┆           ┆           ┆           ┆          │\n",
       "│           ┆           ┆           ┆ 00:00:00  ┆   ┆           ┆           ┆           ┆          │\n",
       "│ LAI-00201 ┆ -0.229098 ┆ 699961605 ┆ 2021-03-0 ┆ … ┆ -0.148839 ┆ 0.651366  ┆ -0.477058 ┆ NaN      │\n",
       "│ 559       ┆           ┆ 241@21C1  ┆ 2         ┆   ┆           ┆           ┆           ┆          │\n",
       "│           ┆           ┆           ┆ 00:00:00  ┆   ┆           ┆           ┆           ┆          │\n",
       "│ LAI-00215 ┆ -0.00486  ┆ 726939495 ┆ 2021-06-1 ┆ … ┆ -0.062869 ┆ -0.002787 ┆ -1.010492 ┆ -1.10565 │\n",
       "│ 716       ┆           ┆ 270@21F2  ┆ 5         ┆   ┆           ┆           ┆           ┆ 4        │\n",
       "│           ┆           ┆           ┆ 00:00:00  ┆   ┆           ┆           ┆           ┆          │\n",
       "│ LAI-00229 ┆ 0.106465  ┆ ON4882685 ┆ 2021-08-0 ┆ … ┆ -0.124276 ┆ -0.349432 ┆ -0.923664 ┆ -0.71423 │\n",
       "│ 385       ┆           ┆ 09        ┆ 4         ┆   ┆           ┆           ┆           ┆ 6        │\n",
       "│           ┆           ┆           ┆ 00:00:00  ┆   ┆           ┆           ┆           ┆          │\n",
       "│ …         ┆ …         ┆ …         ┆ …         ┆ … ┆ …         ┆ …         ┆ …         ┆ …        │\n",
       "│ LAI-00008 ┆ -1.73516  ┆ 699773646 ┆ 2016-07-0 ┆ … ┆ -0.124276 ┆ 1.695774  ┆ 0.225386  ┆ -0.55772 │\n",
       "│ 930       ┆           ┆ 274@E2    ┆ 7         ┆   ┆           ┆           ┆           ┆ 5        │\n",
       "│           ┆           ┆           ┆ 00:00:00  ┆   ┆           ┆           ┆           ┆          │\n",
       "│ LAI-00009 ┆ -1.731926 ┆ 747999729 ┆ 2016-07-1 ┆ … ┆ 0.063999  ┆ -0.417084 ┆ 1.209743  ┆ 1.194783 │\n",
       "│ 134       ┆           ┆ 346@E2    ┆ 2         ┆   ┆           ┆           ┆           ┆          │\n",
       "│           ┆           ┆           ┆ 00:00:00  ┆   ┆           ┆           ┆           ┆          │\n",
       "│ LAI-00007 ┆ -1.744251 ┆ YY23AQ3AH ┆ 2016-05-2 ┆ … ┆ NaN       ┆ -0.334745 ┆ NaN       ┆ NaN      │\n",
       "│ 728       ┆           ┆ @D2       ┆ 6         ┆   ┆           ┆           ┆           ┆          │\n",
       "│           ┆           ┆           ┆ 00:00:00  ┆   ┆           ┆           ┆           ┆          │\n",
       "│ LAI-00008 ┆ -1.742785 ┆ 699797922 ┆ 2016-06-1 ┆ … ┆ -0.026024 ┆ -0.64804  ┆ -1.234387 ┆ -1.26536 │\n",
       "│ 902       ┆           ┆ 692@E2    ┆ 6         ┆   ┆           ┆           ┆           ┆          │\n",
       "│           ┆           ┆           ┆ 00:00:00  ┆   ┆           ┆           ┆           ┆          │\n",
       "│ LAI-00014 ┆ -1.642429 ┆ 183965256 ┆ 2016-10-2 ┆ … ┆ NaN       ┆ 0.377914  ┆ 1.807721  ┆ NaN      │\n",
       "│ 162       ┆           ┆ 069@H2    ┆ 5         ┆   ┆           ┆           ┆           ┆          │\n",
       "│           ┆           ┆           ┆ 00:00:00  ┆   ┆           ┆           ┆           ┆          │\n",
       "└───────────┴───────────┴───────────┴───────────┴───┴───────────┴───────────┴───────────┴──────────┘"
      ]
     },
     "execution_count": 97,
     "metadata": {},
     "output_type": "execute_result"
    }
   ],
   "source": [
    "class DataCleaning:\n",
    "    def __init__(self, file_path, categorical_treshold_frequency=0.25):\n",
    "        self.file_path = file_path\n",
    "        self.categorical_treshold_frequency = categorical_treshold_frequency\n",
    "\n",
    "    def load_data(self, path):\n",
    "        return pl.read_parquet(path)\n",
    "    \n",
    "    def clean_data(self):\n",
    "        sampling = ['train', 'val', 'test'] if test_sampling_present else ['train', 'val']\n",
    "\n",
    "        self.data = {sample: self.load_data(f'{path}{sample}.parquet') for sample in sampling}\n",
    "\n",
    "        for sample, df in self.data.items():\n",
    "            # Exclude datetime columns\n",
    "            datetime_cols = [col for col, dtype in zip(df.columns, df.dtypes) if dtype == pl.Datetime]\n",
    "            df = df.drop(datetime_cols)\n",
    "\n",
    "            object_cols = [col for col, dtype in zip(df.columns, df.dtypes) if dtype == pl.Utf8]\n",
    "            high_cardinality_cols = []\n",
    "            one_hot_cat_cols = []\n",
    "\n",
    "            for col in object_cols:\n",
    "                max_freq = df[col].value_counts(normalize=True)[\"proportion\"].max()\n",
    "                if max_freq > self.categorical_treshold_frequency:\n",
    "                    one_hot_cat_cols.append(col)\n",
    "                else:\n",
    "                    high_cardinality_cols.append(col)\n",
    "\n",
    "            df = df.with_columns(\n",
    "                [pl.col(col).str.strip_chars().alias(col) for col in one_hot_cat_cols]\n",
    "            )\n",
    "\n",
    "            df = df.drop(columns=high_cardinality_cols)\n",
    "        \n",
    "            \n",
    "            for col in df.columns:\n",
    "                try:\n",
    "                    df = df.with_columns(\n",
    "                        [pl.col(col).cast(float).alias(col)]\n",
    "                    )\n",
    "                except:\n",
    "                    pass\n",
    "            \n",
    "            df = df.with_columns(\n",
    "                [pl.col(col).cast(pl.Categorical).to_dummies().alias(col) for col in one_hot_cat_cols]\n",
    "            )\n",
    "            self.data[sample] = df\n",
    "\n",
    "        \n",
    "\n",
    "            \n"
   ]
  },
  {
   "cell_type": "code",
   "execution_count": 86,
   "metadata": {},
   "outputs": [
    {
     "data": {
      "text/html": [
       "<div><style>\n",
       ".dataframe > thead > tr,\n",
       ".dataframe > tbody > tr {\n",
       "  text-align: right;\n",
       "  white-space: pre-wrap;\n",
       "}\n",
       "</style>\n",
       "<small>shape: (400_942, 122)</small><table border=\"1\" class=\"dataframe\"><thead><tr><th>loanid</th><th>lead_id</th><th>leadid</th><th>disbursal_date</th><th>due_dt</th><th>payment_dt</th><th>starter_loan_flag</th><th>channel</th><th>paydate1</th><th>lead_create_date</th><th>employmentstatus</th><th>stated_income</th><th>requestamount</th><th>paymentfrequency</th><th>repaymentfrequency</th><th>paymentstartdate</th><th>application_create_date</th><th>repaymentmethod</th><th>tu_income_estimator</th><th>misaligned_pay_freqency</th><th>improbable_pay_date</th><th>infrequent_pay_date</th><th>due_dt_disbursal_date_diff</th><th>paymentstartdate_disbursal_date_diff</th><th>due_dt_paydate1_diff</th><th>paymentstartdate_paydate1_diff</th><th>paydate1_application_create_date_diff</th><th>paydate1_lead_create_date_diff</th><th>paymentstartdate_paydate1_same_flag</th><th>due_dt_paydate1_same_flag</th><th>paydate1_day</th><th>paydate1_weekday</th><th>paymentstartdate_weekday</th><th>lead_create_date_weekday</th><th>application_create_date_weekday</th><th>due_dt_weekday</th><th>paymentstartdate_paydate1_notsame_and_weekend_flag</th><th>&hellip;</th><th>employment_employer_unparsed</th><th>no_of_times_job_switched_12_months</th><th>no_of_times_job_switched_1_months</th><th>no_of_times_job_switched_24_months</th><th>no_of_times_job_switched_2_months</th><th>no_of_times_job_switched_36_months</th><th>no_of_times_job_switched_3_months</th><th>no_of_times_job_switched_48_months</th><th>no_of_times_job_switched_60_months</th><th>no_of_times_job_switched_6_months</th><th>no_of_times_job_switched_96_months</th><th>no_of_times_job_switched_ever</th><th>lti</th><th>income_rounding</th><th>payment_freq_bi_weekly</th><th>payment_freq_monthly</th><th>payment_freq_twice_per_month</th><th>payment_freq_weekly</th><th>payment_freq_other</th><th>repayment_freq_bi_weekly</th><th>repayment_freq_monthly</th><th>repayment_freq_twice_per_month</th><th>repayment_freq_weekly</th><th>employmentstatus_employment</th><th>employmentstatus_selfemployed</th><th>employmentstatus_governmentbenefit</th><th>employmentstatus_pension_or_annuity</th><th>employmentstatus_other</th><th>pti_1</th><th>pti_2</th><th>current_debt</th><th>current_usi_debt</th><th>cca_num_of_employers_last_six_months</th><th>cca_reported_net_monthly_income_previously_seen</th><th>RTI</th><th>DTI_current_debt</th><th>DTI_current_usi_debt</th></tr><tr><td>str</td><td>f64</td><td>str</td><td>datetime[ns]</td><td>datetime[ns]</td><td>datetime[ns]</td><td>i32</td><td>str</td><td>datetime[ns]</td><td>datetime[ns]</td><td>f64</td><td>f64</td><td>f64</td><td>str</td><td>str</td><td>datetime[ns]</td><td>datetime[ns]</td><td>f64</td><td>f64</td><td>f64</td><td>f64</td><td>f64</td><td>f64</td><td>f64</td><td>f64</td><td>f64</td><td>f64</td><td>f64</td><td>f64</td><td>f64</td><td>f64</td><td>f64</td><td>f64</td><td>f64</td><td>f64</td><td>f64</td><td>f64</td><td>&hellip;</td><td>f64</td><td>f64</td><td>f64</td><td>f64</td><td>f64</td><td>f64</td><td>f64</td><td>f64</td><td>f64</td><td>f64</td><td>f64</td><td>f64</td><td>f64</td><td>f64</td><td>f64</td><td>f64</td><td>f64</td><td>f64</td><td>f64</td><td>f64</td><td>f64</td><td>f64</td><td>f64</td><td>f64</td><td>f64</td><td>f64</td><td>f64</td><td>f64</td><td>f64</td><td>f64</td><td>f64</td><td>f64</td><td>f64</td><td>f64</td><td>f64</td><td>f64</td><td>f64</td></tr></thead><tbody><tr><td>&quot;LAI-00092480&quot;</td><td>1.992233e6</td><td>&quot;546838288177@19H1&quot;</td><td>2019-08-01 00:00:00</td><td>2019-09-01 00:00:00</td><td>2019-09-01 00:00:00</td><td>1</td><td>&quot;PS&quot;</td><td>2019-08-15 00:00:00</td><td>2019-07-30 16:55:37</td><td>1.0</td><td>42000.0</td><td>2000.0</td><td>&quot;TWICE_PER_MONTH&quot;</td><td>&quot;TWICE_PER_MONTH&quot;</td><td>2019-08-16 00:00:00</td><td>2019-07-31 08:59:13</td><td>1.0</td><td>NaN</td><td>0.0</td><td>0.0</td><td>-2.0</td><td>0.0</td><td>0.0</td><td>0.0</td><td>0.0</td><td>0.0</td><td>0.0</td><td>1.0</td><td>17.0</td><td>15.0</td><td>3.0</td><td>4.0</td><td>1.0</td><td>2.0</td><td>6.0</td><td>0.0</td><td>&hellip;</td><td>NaN</td><td>0.0</td><td>0.0</td><td>0.0</td><td>0.0</td><td>0.0</td><td>0.0</td><td>1.0</td><td>1.0</td><td>0.0</td><td>1.0</td><td>1.0</td><td>0.025</td><td>1.0</td><td>0.0</td><td>0.0</td><td>0.0</td><td>0.0</td><td>0.0</td><td>0.0</td><td>0.0</td><td>0.0</td><td>0.0</td><td>1.0</td><td>0.0</td><td>0.0</td><td>0.0</td><td>0.0</td><td>0.029109</td><td>0.058217</td><td>787.0</td><td>NaN</td><td>1.0</td><td>5000.0</td><td>0.047619</td><td>0.018738</td><td>NaN</td></tr><tr><td>&quot;LAI-00121272&quot;</td><td>2.636831e6</td><td>&quot;576839437287@19K1&quot;</td><td>2019-10-25 00:00:00</td><td>2019-11-27 00:00:00</td><td>null</td><td>1</td><td>&quot;PS&quot;</td><td>2019-10-30 00:00:00</td><td>2019-10-24 14:48:33</td><td>1.0</td><td>54600.0</td><td>3000.0</td><td>&quot;BI_WEEKLY&quot;</td><td>&quot;BI_WEEKLY&quot;</td><td>2019-11-13 00:00:00</td><td>2019-10-24 14:51:11</td><td>4.0</td><td>NaN</td><td>0.0</td><td>0.0</td><td>-1.0</td><td>0.0</td><td>0.0</td><td>0.0</td><td>0.0</td><td>0.0</td><td>0.0</td><td>14.0</td><td>28.0</td><td>30.0</td><td>2.0</td><td>2.0</td><td>3.0</td><td>3.0</td><td>2.0</td><td>0.0</td><td>&hellip;</td><td>NaN</td><td>0.0</td><td>0.0</td><td>0.0</td><td>0.0</td><td>0.0</td><td>0.0</td><td>0.0</td><td>0.0</td><td>0.0</td><td>1.0</td><td>2.0</td><td>0.028846</td><td>1.0</td><td>0.0</td><td>0.0</td><td>0.0</td><td>0.0</td><td>0.0</td><td>0.0</td><td>0.0</td><td>0.0</td><td>0.0</td><td>1.0</td><td>0.0</td><td>0.0</td><td>0.0</td><td>0.0</td><td>0.031782</td><td>0.068862</td><td>851.0</td><td>690.0</td><td>2.0</td><td>4500.0</td><td>0.054945</td><td>0.015586</td><td>0.012637</td></tr><tr><td>&quot;LAI-00201559&quot;</td><td>4.471053e6</td><td>&quot;699961605241@21C1&quot;</td><td>2021-03-02 00:00:00</td><td>2021-04-02 00:00:00</td><td>2021-04-02 00:00:00</td><td>1</td><td>&quot;PS&quot;</td><td>2021-03-05 00:00:00</td><td>2021-03-01 14:01:00</td><td>1.0</td><td>26400.0</td><td>4000.0</td><td>&quot;BI_WEEKLY&quot;</td><td>&quot;BI_WEEKLY&quot;</td><td>2021-03-19 00:00:00</td><td>2021-03-01 14:05:31</td><td>1.0</td><td>39999.0</td><td>0.0</td><td>0.0</td><td>-2.0</td><td>0.0</td><td>0.0</td><td>0.0</td><td>0.0</td><td>0.0</td><td>0.0</td><td>14.0</td><td>28.0</td><td>5.0</td><td>4.0</td><td>4.0</td><td>0.0</td><td>0.0</td><td>4.0</td><td>0.0</td><td>&hellip;</td><td>NaN</td><td>0.0</td><td>0.0</td><td>0.0</td><td>0.0</td><td>0.0</td><td>0.0</td><td>0.0</td><td>0.0</td><td>0.0</td><td>1.0</td><td>2.0</td><td>0.059659</td><td>1.0</td><td>0.0</td><td>0.0</td><td>0.0</td><td>0.0</td><td>0.0</td><td>0.0</td><td>0.0</td><td>0.0</td><td>0.0</td><td>1.0</td><td>0.0</td><td>0.0</td><td>0.0</td><td>0.0</td><td>0.0506</td><td>0.109633</td><td>308.0</td><td>NaN</td><td>0.0</td><td>2600.0</td><td>0.151515</td><td>0.011667</td><td>NaN</td></tr><tr><td>&quot;LAI-00215716&quot;</td><td>5.127363e6</td><td>&quot;726939495270@21F2&quot;</td><td>2021-06-15 00:00:00</td><td>2021-07-16 00:00:00</td><td>2021-07-16 00:00:00</td><td>1</td><td>&quot;PS&quot;</td><td>2021-06-18 00:00:00</td><td>2021-06-15 12:32:33</td><td>1.0</td><td>39600.0</td><td>3000.0</td><td>&quot;BI_WEEKLY&quot;</td><td>&quot;BI_WEEKLY&quot;</td><td>2021-07-02 00:00:00</td><td>2021-06-15 12:38:08</td><td>1.0</td><td>39999.0</td><td>0.0</td><td>0.0</td><td>-2.0</td><td>0.0</td><td>0.0</td><td>0.0</td><td>0.0</td><td>0.0</td><td>0.0</td><td>14.0</td><td>28.0</td><td>18.0</td><td>4.0</td><td>4.0</td><td>1.0</td><td>1.0</td><td>4.0</td><td>0.0</td><td>&hellip;</td><td>NaN</td><td>1.0</td><td>0.0</td><td>1.0</td><td>0.0</td><td>1.0</td><td>0.0</td><td>2.0</td><td>2.0</td><td>0.0</td><td>2.0</td><td>2.0</td><td>0.025253</td><td>1.0</td><td>0.0</td><td>0.0</td><td>0.0</td><td>0.0</td><td>0.0</td><td>0.0</td><td>0.0</td><td>0.0</td><td>0.0</td><td>1.0</td><td>0.0</td><td>0.0</td><td>0.0</td><td>0.0</td><td>0.025191</td><td>0.05458</td><td>146.0</td><td>42.0</td><td>2.0</td><td>4000.0</td><td>0.075758</td><td>0.003687</td><td>0.001061</td></tr><tr><td>&quot;LAI-00229385&quot;</td><td>5.453198e6</td><td>&quot;ON488268509&quot;</td><td>2021-08-04 00:00:00</td><td>2021-08-31 00:00:00</td><td>2021-08-31 00:00:00</td><td>1</td><td>&quot;ORG&quot;</td><td>2021-08-10 00:00:00</td><td>2021-08-03 13:14:38</td><td>7.0</td><td>28080.0</td><td>1000.0</td><td>&quot;WEEKLY&quot;</td><td>&quot;BI_WEEKLY&quot;</td><td>2021-08-17 00:00:00</td><td>2021-08-03 13:20:22</td><td>1.0</td><td>39999.0</td><td>1.0</td><td>0.0</td><td>-1.0</td><td>0.0</td><td>0.0</td><td>0.0</td><td>0.0</td><td>0.0</td><td>0.0</td><td>7.0</td><td>21.0</td><td>10.0</td><td>1.0</td><td>1.0</td><td>1.0</td><td>1.0</td><td>1.0</td><td>0.0</td><td>&hellip;</td><td>NaN</td><td>0.0</td><td>0.0</td><td>0.0</td><td>0.0</td><td>0.0</td><td>0.0</td><td>0.0</td><td>0.0</td><td>0.0</td><td>0.0</td><td>1.0</td><td>0.018697</td><td>0.0</td><td>0.0</td><td>0.0</td><td>0.0</td><td>0.0</td><td>0.0</td><td>0.0</td><td>0.0</td><td>0.0</td><td>0.0</td><td>0.0</td><td>0.0</td><td>1.0</td><td>0.0</td><td>0.0</td><td>0.010466</td><td>0.022676</td><td>140.0</td><td>101.0</td><td>0.0</td><td>3000.0</td><td>0.035613</td><td>0.004986</td><td>0.003597</td></tr><tr><td>&hellip;</td><td>&hellip;</td><td>&hellip;</td><td>&hellip;</td><td>&hellip;</td><td>&hellip;</td><td>&hellip;</td><td>&hellip;</td><td>&hellip;</td><td>&hellip;</td><td>&hellip;</td><td>&hellip;</td><td>&hellip;</td><td>&hellip;</td><td>&hellip;</td><td>&hellip;</td><td>&hellip;</td><td>&hellip;</td><td>&hellip;</td><td>&hellip;</td><td>&hellip;</td><td>&hellip;</td><td>&hellip;</td><td>&hellip;</td><td>&hellip;</td><td>&hellip;</td><td>&hellip;</td><td>&hellip;</td><td>&hellip;</td><td>&hellip;</td><td>&hellip;</td><td>&hellip;</td><td>&hellip;</td><td>&hellip;</td><td>&hellip;</td><td>&hellip;</td><td>&hellip;</td><td>&hellip;</td><td>&hellip;</td><td>&hellip;</td><td>&hellip;</td><td>&hellip;</td><td>&hellip;</td><td>&hellip;</td><td>&hellip;</td><td>&hellip;</td><td>&hellip;</td><td>&hellip;</td><td>&hellip;</td><td>&hellip;</td><td>&hellip;</td><td>&hellip;</td><td>&hellip;</td><td>&hellip;</td><td>&hellip;</td><td>&hellip;</td><td>&hellip;</td><td>&hellip;</td><td>&hellip;</td><td>&hellip;</td><td>&hellip;</td><td>&hellip;</td><td>&hellip;</td><td>&hellip;</td><td>&hellip;</td><td>&hellip;</td><td>&hellip;</td><td>&hellip;</td><td>&hellip;</td><td>&hellip;</td><td>&hellip;</td><td>&hellip;</td><td>&hellip;</td><td>&hellip;</td><td>&hellip;</td></tr><tr><td>&quot;LAI-00008930&quot;</td><td>63022.0</td><td>&quot;699773646274@E2&quot;</td><td>2016-07-07 00:00:00</td><td>2016-08-03 00:00:00</td><td>2016-08-03 00:00:00</td><td>0</td><td>&quot;PS&quot;</td><td>2016-08-03 00:00:00</td><td>2016-07-05 11:51:23</td><td>5.0</td><td>23856.0</td><td>6500.0</td><td>&quot;MONTHLY&quot;</td><td>&quot;MONTHLY&quot;</td><td>2016-08-03 00:00:00</td><td>2016-07-05 12:02:38</td><td>1.0</td><td>NaN</td><td>0.0</td><td>0.0</td><td>-2.0</td><td>0.0</td><td>0.0</td><td>1.0</td><td>1.0</td><td>0.0</td><td>0.0</td><td>0.0</td><td>0.0</td><td>3.0</td><td>2.0</td><td>2.0</td><td>1.0</td><td>1.0</td><td>2.0</td><td>0.0</td><td>&hellip;</td><td>NaN</td><td>0.0</td><td>0.0</td><td>1.0</td><td>0.0</td><td>2.0</td><td>0.0</td><td>2.0</td><td>2.0</td><td>0.0</td><td>2.0</td><td>2.0</td><td>0.197015</td><td>0.0</td><td>0.0</td><td>0.0</td><td>0.0</td><td>0.0</td><td>0.0</td><td>0.0</td><td>0.0</td><td>0.0</td><td>0.0</td><td>0.0</td><td>0.0</td><td>0.0</td><td>0.0</td><td>1.0</td><td>0.112666</td><td>0.112666</td><td>529.0</td><td>110.0</td><td>0.0</td><td>3000.0</td><td>0.272468</td><td>0.022175</td><td>0.004611</td></tr><tr><td>&quot;LAI-00009134&quot;</td><td>72487.0</td><td>&quot;747999729346@E2&quot;</td><td>2016-07-12 00:00:00</td><td>2016-08-15 00:00:00</td><td>2016-08-15 00:00:00</td><td>0</td><td>&quot;PS&quot;</td><td>2016-07-15 00:00:00</td><td>2016-07-11 15:23:46</td><td>1.0</td><td>90000.0</td><td>2500.0</td><td>&quot;TWICE_PER_MONTH&quot;</td><td>&quot;MONTHLY&quot;</td><td>2016-08-15 00:00:00</td><td>2016-07-11 16:13:18</td><td>2.0</td><td>NaN</td><td>1.0</td><td>0.0</td><td>-2.0</td><td>0.0</td><td>0.0</td><td>0.0</td><td>0.0</td><td>0.0</td><td>0.0</td><td>31.0</td><td>31.0</td><td>15.0</td><td>4.0</td><td>0.0</td><td>0.0</td><td>0.0</td><td>0.0</td><td>0.0</td><td>&hellip;</td><td>NaN</td><td>1.0</td><td>1.0</td><td>1.0</td><td>1.0</td><td>1.0</td><td>1.0</td><td>1.0</td><td>1.0</td><td>1.0</td><td>1.0</td><td>2.0</td><td>0.027778</td><td>1.0</td><td>0.0</td><td>0.0</td><td>0.0</td><td>0.0</td><td>0.0</td><td>0.0</td><td>0.0</td><td>0.0</td><td>0.0</td><td>1.0</td><td>0.0</td><td>0.0</td><td>0.0</td><td>0.0</td><td>0.020385</td><td>0.020385</td><td>3321.0</td><td>1437.0</td><td>1.0</td><td>6066.0</td><td>0.027778</td><td>0.0369</td><td>0.015967</td></tr><tr><td>&quot;LAI-00007728&quot;</td><td>36413.0</td><td>&quot;YY23AQ3AH@D2&quot;</td><td>2016-05-26 00:00:00</td><td>2016-07-03 00:00:00</td><td>2016-07-03 00:00:00</td><td>0</td><td>&quot;PS&quot;</td><td>2016-06-03 00:00:00</td><td>2016-05-23 12:10:05</td><td>1.0</td><td>80400.0</td><td>3000.0</td><td>&quot;TWICE_PER_MONTH&quot;</td><td>&quot;MONTHLY&quot;</td><td>2016-07-03 00:00:00</td><td>2016-05-23 12:15:16</td><td>1.0</td><td>NaN</td><td>1.0</td><td>0.0</td><td>-1.0</td><td>0.0</td><td>0.0</td><td>0.0</td><td>0.0</td><td>0.0</td><td>0.0</td><td>30.0</td><td>30.0</td><td>3.0</td><td>4.0</td><td>6.0</td><td>0.0</td><td>0.0</td><td>6.0</td><td>1.0</td><td>&hellip;</td><td>NaN</td><td>1.0</td><td>0.0</td><td>1.0</td><td>0.0</td><td>1.0</td><td>1.0</td><td>1.0</td><td>1.0</td><td>1.0</td><td>1.0</td><td>2.0</td><td>0.037313</td><td>1.0</td><td>0.0</td><td>0.0</td><td>0.0</td><td>0.0</td><td>0.0</td><td>0.0</td><td>0.0</td><td>0.0</td><td>0.0</td><td>1.0</td><td>0.0</td><td>0.0</td><td>0.0</td><td>0.0</td><td>0.027261</td><td>0.027261</td><td>NaN</td><td>NaN</td><td>NaN</td><td>NaN</td><td>0.037313</td><td>NaN</td><td>NaN</td></tr><tr><td>&quot;LAI-00008902&quot;</td><td>40705.0</td><td>&quot;699797922692@E2&quot;</td><td>2016-06-16 00:00:00</td><td>2016-07-15 00:00:00</td><td>2016-07-15 00:00:00</td><td>0</td><td>&quot;PS&quot;</td><td>2016-06-17 00:00:00</td><td>2016-06-06 07:03:29</td><td>1.0</td><td>3.8808e6</td><td>4000.0</td><td>&quot;BI_WEEKLY&quot;</td><td>&quot;BI_WEEKLY&quot;</td><td>2016-07-01 00:00:00</td><td>2016-06-06 09:14:20</td><td>1.0</td><td>NaN</td><td>0.0</td><td>0.0</td><td>-2.0</td><td>0.0</td><td>0.0</td><td>0.0</td><td>0.0</td><td>0.0</td><td>0.0</td><td>14.0</td><td>28.0</td><td>17.0</td><td>4.0</td><td>4.0</td><td>0.0</td><td>0.0</td><td>4.0</td><td>0.0</td><td>&hellip;</td><td>NaN</td><td>0.0</td><td>0.0</td><td>0.0</td><td>0.0</td><td>1.0</td><td>0.0</td><td>2.0</td><td>2.0</td><td>0.0</td><td>2.0</td><td>2.0</td><td>0.001031</td><td>1.0</td><td>0.0</td><td>0.0</td><td>0.0</td><td>0.0</td><td>0.0</td><td>0.0</td><td>0.0</td><td>0.0</td><td>0.0</td><td>1.0</td><td>0.0</td><td>0.0</td><td>0.0</td><td>0.0</td><td>0.000272</td><td>0.000589</td><td>1310.0</td><td>100.0</td><td>1.0</td><td>4600.0</td><td>0.001031</td><td>0.000338</td><td>0.000026</td></tr><tr><td>&quot;LAI-00014162&quot;</td><td>334432.0</td><td>&quot;183965256069@H2&quot;</td><td>2016-10-25 00:00:00</td><td>2016-11-25 00:00:00</td><td>2016-11-25 00:00:00</td><td>0</td><td>&quot;PS&quot;</td><td>2016-10-28 00:00:00</td><td>2016-10-25 05:57:07</td><td>1.0</td><td>62580.0</td><td>7500.0</td><td>&quot;BI_WEEKLY&quot;</td><td>&quot;BI_WEEKLY&quot;</td><td>2016-11-11 00:00:00</td><td>2016-10-25 05:59:59</td><td>1.0</td><td>NaN</td><td>0.0</td><td>0.0</td><td>-2.0</td><td>0.0</td><td>0.0</td><td>0.0</td><td>0.0</td><td>0.0</td><td>0.0</td><td>14.0</td><td>28.0</td><td>28.0</td><td>4.0</td><td>4.0</td><td>1.0</td><td>1.0</td><td>4.0</td><td>0.0</td><td>&hellip;</td><td>NaN</td><td>1.0</td><td>0.0</td><td>1.0</td><td>0.0</td><td>1.0</td><td>0.0</td><td>1.0</td><td>1.0</td><td>0.0</td><td>2.0</td><td>2.0</td><td>0.119847</td><td>0.0</td><td>0.0</td><td>0.0</td><td>0.0</td><td>0.0</td><td>0.0</td><td>0.0</td><td>0.0</td><td>0.0</td><td>0.0</td><td>1.0</td><td>0.0</td><td>0.0</td><td>0.0</td><td>0.0</td><td>0.057954</td><td>0.125567</td><td>2869.0</td><td>NaN</td><td>NaN</td><td>NaN</td><td>0.119847</td><td>0.045845</td><td>NaN</td></tr></tbody></table></div>"
      ],
      "text/plain": [
       "shape: (400_942, 122)\n",
       "┌───────────┬───────────┬───────────┬───────────┬───┬───────────┬──────────┬───────────┬───────────┐\n",
       "│ loanid    ┆ lead_id   ┆ leadid    ┆ disbursal ┆ … ┆ cca_repor ┆ RTI      ┆ DTI_curre ┆ DTI_curre │\n",
       "│ ---       ┆ ---       ┆ ---       ┆ _date     ┆   ┆ ted_net_m ┆ ---      ┆ nt_debt   ┆ nt_usi_de │\n",
       "│ str       ┆ f64       ┆ str       ┆ ---       ┆   ┆ onthly_in ┆ f64      ┆ ---       ┆ bt        │\n",
       "│           ┆           ┆           ┆ datetime[ ┆   ┆ com…      ┆          ┆ f64       ┆ ---       │\n",
       "│           ┆           ┆           ┆ ns]       ┆   ┆ ---       ┆          ┆           ┆ f64       │\n",
       "│           ┆           ┆           ┆           ┆   ┆ f64       ┆          ┆           ┆           │\n",
       "╞═══════════╪═══════════╪═══════════╪═══════════╪═══╪═══════════╪══════════╪═══════════╪═══════════╡\n",
       "│ LAI-00092 ┆ 1.992233e ┆ 546838288 ┆ 2019-08-0 ┆ … ┆ 5000.0    ┆ 0.047619 ┆ 0.018738  ┆ NaN       │\n",
       "│ 480       ┆ 6         ┆ 177@19H1  ┆ 1         ┆   ┆           ┆          ┆           ┆           │\n",
       "│           ┆           ┆           ┆ 00:00:00  ┆   ┆           ┆          ┆           ┆           │\n",
       "│ LAI-00121 ┆ 2.636831e ┆ 576839437 ┆ 2019-10-2 ┆ … ┆ 4500.0    ┆ 0.054945 ┆ 0.015586  ┆ 0.012637  │\n",
       "│ 272       ┆ 6         ┆ 287@19K1  ┆ 5         ┆   ┆           ┆          ┆           ┆           │\n",
       "│           ┆           ┆           ┆ 00:00:00  ┆   ┆           ┆          ┆           ┆           │\n",
       "│ LAI-00201 ┆ 4.471053e ┆ 699961605 ┆ 2021-03-0 ┆ … ┆ 2600.0    ┆ 0.151515 ┆ 0.011667  ┆ NaN       │\n",
       "│ 559       ┆ 6         ┆ 241@21C1  ┆ 2         ┆   ┆           ┆          ┆           ┆           │\n",
       "│           ┆           ┆           ┆ 00:00:00  ┆   ┆           ┆          ┆           ┆           │\n",
       "│ LAI-00215 ┆ 5.127363e ┆ 726939495 ┆ 2021-06-1 ┆ … ┆ 4000.0    ┆ 0.075758 ┆ 0.003687  ┆ 0.001061  │\n",
       "│ 716       ┆ 6         ┆ 270@21F2  ┆ 5         ┆   ┆           ┆          ┆           ┆           │\n",
       "│           ┆           ┆           ┆ 00:00:00  ┆   ┆           ┆          ┆           ┆           │\n",
       "│ LAI-00229 ┆ 5.453198e ┆ ON4882685 ┆ 2021-08-0 ┆ … ┆ 3000.0    ┆ 0.035613 ┆ 0.004986  ┆ 0.003597  │\n",
       "│ 385       ┆ 6         ┆ 09        ┆ 4         ┆   ┆           ┆          ┆           ┆           │\n",
       "│           ┆           ┆           ┆ 00:00:00  ┆   ┆           ┆          ┆           ┆           │\n",
       "│ …         ┆ …         ┆ …         ┆ …         ┆ … ┆ …         ┆ …        ┆ …         ┆ …         │\n",
       "│ LAI-00008 ┆ 63022.0   ┆ 699773646 ┆ 2016-07-0 ┆ … ┆ 3000.0    ┆ 0.272468 ┆ 0.022175  ┆ 0.004611  │\n",
       "│ 930       ┆           ┆ 274@E2    ┆ 7         ┆   ┆           ┆          ┆           ┆           │\n",
       "│           ┆           ┆           ┆ 00:00:00  ┆   ┆           ┆          ┆           ┆           │\n",
       "│ LAI-00009 ┆ 72487.0   ┆ 747999729 ┆ 2016-07-1 ┆ … ┆ 6066.0    ┆ 0.027778 ┆ 0.0369    ┆ 0.015967  │\n",
       "│ 134       ┆           ┆ 346@E2    ┆ 2         ┆   ┆           ┆          ┆           ┆           │\n",
       "│           ┆           ┆           ┆ 00:00:00  ┆   ┆           ┆          ┆           ┆           │\n",
       "│ LAI-00007 ┆ 36413.0   ┆ YY23AQ3AH ┆ 2016-05-2 ┆ … ┆ NaN       ┆ 0.037313 ┆ NaN       ┆ NaN       │\n",
       "│ 728       ┆           ┆ @D2       ┆ 6         ┆   ┆           ┆          ┆           ┆           │\n",
       "│           ┆           ┆           ┆ 00:00:00  ┆   ┆           ┆          ┆           ┆           │\n",
       "│ LAI-00008 ┆ 40705.0   ┆ 699797922 ┆ 2016-06-1 ┆ … ┆ 4600.0    ┆ 0.001031 ┆ 0.000338  ┆ 0.000026  │\n",
       "│ 902       ┆           ┆ 692@E2    ┆ 6         ┆   ┆           ┆          ┆           ┆           │\n",
       "│           ┆           ┆           ┆ 00:00:00  ┆   ┆           ┆          ┆           ┆           │\n",
       "│ LAI-00014 ┆ 334432.0  ┆ 183965256 ┆ 2016-10-2 ┆ … ┆ NaN       ┆ 0.119847 ┆ 0.045845  ┆ NaN       │\n",
       "│ 162       ┆           ┆ 069@H2    ┆ 5         ┆   ┆           ┆          ┆           ┆           │\n",
       "│           ┆           ┆           ┆ 00:00:00  ┆   ┆           ┆          ┆           ┆           │\n",
       "└───────────┴───────────┴───────────┴───────────┴───┴───────────┴──────────┴───────────┴───────────┘"
      ]
     },
     "execution_count": 86,
     "metadata": {},
     "output_type": "execute_result"
    }
   ],
   "source": [
    "df"
   ]
  }
 ],
 "metadata": {
  "kernelspec": {
   "display_name": "base",
   "language": "python",
   "name": "python3"
  },
  "language_info": {
   "codemirror_mode": {
    "name": "ipython",
    "version": 3
   },
   "file_extension": ".py",
   "mimetype": "text/x-python",
   "name": "python",
   "nbconvert_exporter": "python",
   "pygments_lexer": "ipython3",
   "version": "3.10.9"
  }
 },
 "nbformat": 4,
 "nbformat_minor": 2
}
